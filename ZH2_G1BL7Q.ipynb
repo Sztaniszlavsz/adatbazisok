{
    "metadata": {
        "kernelspec": {
            "name": "SQL",
            "display_name": "SQL",
            "language": "sql"
        },
        "language_info": {
            "name": "sql",
            "version": ""
        }
    },
    "nbformat_minor": 2,
    "nbformat": 4,
    "cells": [
        {
            "cell_type": "markdown",
            "source": [
                "1\\. Feladat"
            ],
            "metadata": {
                "azdata_cell_guid": "93a13f9f-c50d-4c9a-b850-ce04f84363e0"
            },
            "attachments": {}
        },
        {
            "cell_type": "code",
            "source": [
                "SELECT \r\n",
                "        f.szoba_fk,\r\n",
                "        SUM(CASE WHEN f.FELNOTT_SZAM > f.GYERMEK_SZAM THEN 1 ELSE 0 END) AS nagyobb_felnottek_szama,\r\n",
                "        COUNT(*) AS foglalasok_szama\r\n",
                "\r\n",
                "FROM Foglalas f\r\n",
                "\r\n",
                "GROUP BY f.SZOBA_FK"
            ],
            "metadata": {
                "azdata_cell_guid": "63d9f665-69b8-4da6-8d92-842a22e64752",
                "language": "sql"
            },
            "outputs": [
                {
                    "output_type": "display_data",
                    "data": {
                        "text/html": "(197 rows affected)"
                    },
                    "metadata": {}
                },
                {
                    "output_type": "display_data",
                    "data": {
                        "text/html": "Total execution time: 00:00:00.012"
                    },
                    "metadata": {}
                },
                {
                    "output_type": "execute_result",
                    "metadata": {},
                    "execution_count": 5,
                    "data": {
                        "application/vnd.dataresource+json": {
                            "schema": {
                                "fields": [
                                    {
                                        "name": "szoba_fk"
                                    },
                                    {
                                        "name": "nagyobb_felnottek_szama"
                                    },
                                    {
                                        "name": "foglalasok_szama"
                                    }
                                ]
                            },
                            "data": [
                                {
                                    "szoba_fk": "23",
                                    "nagyobb_felnottek_szama": "3",
                                    "foglalasok_szama": "3"
                                },
                                {
                                    "szoba_fk": "46",
                                    "nagyobb_felnottek_szama": "3",
                                    "foglalasok_szama": "4"
                                },
                                {
                                    "szoba_fk": "192",
                                    "nagyobb_felnottek_szama": "1",
                                    "foglalasok_szama": "2"
                                },
                                {
                                    "szoba_fk": "69",
                                    "nagyobb_felnottek_szama": "2",
                                    "foglalasok_szama": "4"
                                },
                                {
                                    "szoba_fk": "92",
                                    "nagyobb_felnottek_szama": "5",
                                    "foglalasok_szama": "6"
                                },
                                {
                                    "szoba_fk": "115",
                                    "nagyobb_felnottek_szama": "5",
                                    "foglalasok_szama": "7"
                                },
                                {
                                    "szoba_fk": "138",
                                    "nagyobb_felnottek_szama": "5",
                                    "foglalasok_szama": "7"
                                },
                                {
                                    "szoba_fk": "161",
                                    "nagyobb_felnottek_szama": "3",
                                    "foglalasok_szama": "6"
                                },
                                {
                                    "szoba_fk": "29",
                                    "nagyobb_felnottek_szama": "3",
                                    "foglalasok_szama": "6"
                                },
                                {
                                    "szoba_fk": "169",
                                    "nagyobb_felnottek_szama": "3",
                                    "foglalasok_szama": "6"
                                },
                                {
                                    "szoba_fk": "175",
                                    "nagyobb_felnottek_szama": "3",
                                    "foglalasok_szama": "5"
                                },
                                {
                                    "szoba_fk": "75",
                                    "nagyobb_felnottek_szama": "2",
                                    "foglalasok_szama": "3"
                                },
                                {
                                    "szoba_fk": "132",
                                    "nagyobb_felnottek_szama": "4",
                                    "foglalasok_szama": "6"
                                },
                                {
                                    "szoba_fk": "9",
                                    "nagyobb_felnottek_szama": "4",
                                    "foglalasok_szama": "6"
                                },
                                {
                                    "szoba_fk": "181",
                                    "nagyobb_felnottek_szama": "5",
                                    "foglalasok_szama": "6"
                                },
                                {
                                    "szoba_fk": "15",
                                    "nagyobb_felnottek_szama": "4",
                                    "foglalasok_szama": "6"
                                },
                                {
                                    "szoba_fk": "109",
                                    "nagyobb_felnottek_szama": "2",
                                    "foglalasok_szama": "7"
                                },
                                {
                                    "szoba_fk": "158",
                                    "nagyobb_felnottek_szama": "3",
                                    "foglalasok_szama": "3"
                                },
                                {
                                    "szoba_fk": "89",
                                    "nagyobb_felnottek_szama": "8",
                                    "foglalasok_szama": "8"
                                },
                                {
                                    "szoba_fk": "195",
                                    "nagyobb_felnottek_szama": "5",
                                    "foglalasok_szama": "6"
                                },
                                {
                                    "szoba_fk": "3",
                                    "nagyobb_felnottek_szama": "3",
                                    "foglalasok_szama": "8"
                                },
                                {
                                    "szoba_fk": "146",
                                    "nagyobb_felnottek_szama": "3",
                                    "foglalasok_szama": "6"
                                },
                                {
                                    "szoba_fk": "152",
                                    "nagyobb_felnottek_szama": "3",
                                    "foglalasok_szama": "4"
                                },
                                {
                                    "szoba_fk": "52",
                                    "nagyobb_felnottek_szama": "5",
                                    "foglalasok_szama": "5"
                                },
                                {
                                    "szoba_fk": "95",
                                    "nagyobb_felnottek_szama": "3",
                                    "foglalasok_szama": "4"
                                },
                                {
                                    "szoba_fk": "189",
                                    "nagyobb_felnottek_szama": "1",
                                    "foglalasok_szama": "5"
                                },
                                {
                                    "szoba_fk": "72",
                                    "nagyobb_felnottek_szama": "2",
                                    "foglalasok_szama": "4"
                                },
                                {
                                    "szoba_fk": "118",
                                    "nagyobb_felnottek_szama": "2",
                                    "foglalasok_szama": "7"
                                },
                                {
                                    "szoba_fk": "172",
                                    "nagyobb_felnottek_szama": "6",
                                    "foglalasok_szama": "9"
                                },
                                {
                                    "szoba_fk": "78",
                                    "nagyobb_felnottek_szama": "3",
                                    "foglalasok_szama": "6"
                                },
                                {
                                    "szoba_fk": "66",
                                    "nagyobb_felnottek_szama": "3",
                                    "foglalasok_szama": "4"
                                },
                                {
                                    "szoba_fk": "32",
                                    "nagyobb_felnottek_szama": "1",
                                    "foglalasok_szama": "1"
                                },
                                {
                                    "szoba_fk": "126",
                                    "nagyobb_felnottek_szama": "4",
                                    "foglalasok_szama": "6"
                                },
                                {
                                    "szoba_fk": "26",
                                    "nagyobb_felnottek_szama": "0",
                                    "foglalasok_szama": "2"
                                },
                                {
                                    "szoba_fk": "12",
                                    "nagyobb_felnottek_szama": "7",
                                    "foglalasok_szama": "9"
                                },
                                {
                                    "szoba_fk": "178",
                                    "nagyobb_felnottek_szama": "1",
                                    "foglalasok_szama": "4"
                                },
                                {
                                    "szoba_fk": "35",
                                    "nagyobb_felnottek_szama": "6",
                                    "foglalasok_szama": "9"
                                },
                                {
                                    "szoba_fk": "129",
                                    "nagyobb_felnottek_szama": "3",
                                    "foglalasok_szama": "4"
                                },
                                {
                                    "szoba_fk": "155",
                                    "nagyobb_felnottek_szama": "3",
                                    "foglalasok_szama": "5"
                                },
                                {
                                    "szoba_fk": "106",
                                    "nagyobb_felnottek_szama": "4",
                                    "foglalasok_szama": "6"
                                },
                                {
                                    "szoba_fk": "86",
                                    "nagyobb_felnottek_szama": "4",
                                    "foglalasok_szama": "5"
                                },
                                {
                                    "szoba_fk": "135",
                                    "nagyobb_felnottek_szama": "3",
                                    "foglalasok_szama": "3"
                                },
                                {
                                    "szoba_fk": "63",
                                    "nagyobb_felnottek_szama": "3",
                                    "foglalasok_szama": "4"
                                },
                                {
                                    "szoba_fk": "112",
                                    "nagyobb_felnottek_szama": "4",
                                    "foglalasok_szama": "5"
                                },
                                {
                                    "szoba_fk": "6",
                                    "nagyobb_felnottek_szama": "5",
                                    "foglalasok_szama": "6"
                                },
                                {
                                    "szoba_fk": "43",
                                    "nagyobb_felnottek_szama": "4",
                                    "foglalasok_szama": "8"
                                },
                                {
                                    "szoba_fk": "55",
                                    "nagyobb_felnottek_szama": "3",
                                    "foglalasok_szama": "8"
                                },
                                {
                                    "szoba_fk": "98",
                                    "nagyobb_felnottek_szama": "4",
                                    "foglalasok_szama": "4"
                                },
                                {
                                    "szoba_fk": "49",
                                    "nagyobb_felnottek_szama": "5",
                                    "foglalasok_szama": "7"
                                },
                                {
                                    "szoba_fk": "149",
                                    "nagyobb_felnottek_szama": "5",
                                    "foglalasok_szama": "7"
                                },
                                {
                                    "szoba_fk": "198",
                                    "nagyobb_felnottek_szama": "7",
                                    "foglalasok_szama": "8"
                                },
                                {
                                    "szoba_fk": "190",
                                    "nagyobb_felnottek_szama": "5",
                                    "foglalasok_szama": "5"
                                },
                                {
                                    "szoba_fk": "144",
                                    "nagyobb_felnottek_szama": "2",
                                    "foglalasok_szama": "5"
                                },
                                {
                                    "szoba_fk": "167",
                                    "nagyobb_felnottek_szama": "2",
                                    "foglalasok_szama": "2"
                                },
                                {
                                    "szoba_fk": "184",
                                    "nagyobb_felnottek_szama": "4",
                                    "foglalasok_szama": "4"
                                },
                                {
                                    "szoba_fk": "113",
                                    "nagyobb_felnottek_szama": "2",
                                    "foglalasok_szama": "5"
                                },
                                {
                                    "szoba_fk": "67",
                                    "nagyobb_felnottek_szama": "2",
                                    "foglalasok_szama": "6"
                                },
                                {
                                    "szoba_fk": "21",
                                    "nagyobb_felnottek_szama": "1",
                                    "foglalasok_szama": "4"
                                },
                                {
                                    "szoba_fk": "27",
                                    "nagyobb_felnottek_szama": "5",
                                    "foglalasok_szama": "7"
                                },
                                {
                                    "szoba_fk": "127",
                                    "nagyobb_felnottek_szama": "5",
                                    "foglalasok_szama": "7"
                                },
                                {
                                    "szoba_fk": "121",
                                    "nagyobb_felnottek_szama": "5",
                                    "foglalasok_szama": "8"
                                },
                                {
                                    "szoba_fk": "173",
                                    "nagyobb_felnottek_szama": "3",
                                    "foglalasok_szama": "4"
                                },
                                {
                                    "szoba_fk": "107",
                                    "nagyobb_felnottek_szama": "4",
                                    "foglalasok_szama": "5"
                                },
                                {
                                    "szoba_fk": "156",
                                    "nagyobb_felnottek_szama": "2",
                                    "foglalasok_szama": "7"
                                },
                                {
                                    "szoba_fk": "58",
                                    "nagyobb_felnottek_szama": "8",
                                    "foglalasok_szama": "13"
                                },
                                {
                                    "szoba_fk": "130",
                                    "nagyobb_felnottek_szama": "5",
                                    "foglalasok_szama": "6"
                                },
                                {
                                    "szoba_fk": "81",
                                    "nagyobb_felnottek_szama": "3",
                                    "foglalasok_szama": "5"
                                },
                                {
                                    "szoba_fk": "64",
                                    "nagyobb_felnottek_szama": "5",
                                    "foglalasok_szama": "6"
                                },
                                {
                                    "szoba_fk": "87",
                                    "nagyobb_felnottek_szama": "5",
                                    "foglalasok_szama": "5"
                                },
                                {
                                    "szoba_fk": "38",
                                    "nagyobb_felnottek_szama": "5",
                                    "foglalasok_szama": "8"
                                },
                                {
                                    "szoba_fk": "101",
                                    "nagyobb_felnottek_szama": "1",
                                    "foglalasok_szama": "3"
                                },
                                {
                                    "szoba_fk": "7",
                                    "nagyobb_felnottek_szama": "6",
                                    "foglalasok_szama": "6"
                                },
                                {
                                    "szoba_fk": "44",
                                    "nagyobb_felnottek_szama": "6",
                                    "foglalasok_szama": "6"
                                },
                                {
                                    "szoba_fk": "193",
                                    "nagyobb_felnottek_szama": "2",
                                    "foglalasok_szama": "7"
                                },
                                {
                                    "szoba_fk": "150",
                                    "nagyobb_felnottek_szama": "6",
                                    "foglalasok_szama": "6"
                                },
                                {
                                    "szoba_fk": "1",
                                    "nagyobb_felnottek_szama": "7",
                                    "foglalasok_szama": "8"
                                },
                                {
                                    "szoba_fk": "50",
                                    "nagyobb_felnottek_szama": "3",
                                    "foglalasok_szama": "4"
                                },
                                {
                                    "szoba_fk": "24",
                                    "nagyobb_felnottek_szama": "3",
                                    "foglalasok_szama": "3"
                                },
                                {
                                    "szoba_fk": "47",
                                    "nagyobb_felnottek_szama": "2",
                                    "foglalasok_szama": "2"
                                },
                                {
                                    "szoba_fk": "141",
                                    "nagyobb_felnottek_szama": "4",
                                    "foglalasok_szama": "6"
                                },
                                {
                                    "szoba_fk": "70",
                                    "nagyobb_felnottek_szama": "8",
                                    "foglalasok_szama": "11"
                                },
                                {
                                    "szoba_fk": "93",
                                    "nagyobb_felnottek_szama": "3",
                                    "foglalasok_szama": "5"
                                },
                                {
                                    "szoba_fk": "187",
                                    "nagyobb_felnottek_szama": "6",
                                    "foglalasok_szama": "7"
                                },
                                {
                                    "szoba_fk": "164",
                                    "nagyobb_felnottek_szama": "4",
                                    "foglalasok_szama": "5"
                                },
                                {
                                    "szoba_fk": "30",
                                    "nagyobb_felnottek_szama": "2",
                                    "foglalasok_szama": "3"
                                },
                                {
                                    "szoba_fk": "18",
                                    "nagyobb_felnottek_szama": "3",
                                    "foglalasok_szama": "6"
                                },
                                {
                                    "szoba_fk": "170",
                                    "nagyobb_felnottek_szama": "3",
                                    "foglalasok_szama": "5"
                                },
                                {
                                    "szoba_fk": "176",
                                    "nagyobb_felnottek_szama": "2",
                                    "foglalasok_szama": "6"
                                },
                                {
                                    "szoba_fk": "124",
                                    "nagyobb_felnottek_szama": "4",
                                    "foglalasok_szama": "6"
                                },
                                {
                                    "szoba_fk": "84",
                                    "nagyobb_felnottek_szama": "3",
                                    "foglalasok_szama": "4"
                                },
                                {
                                    "szoba_fk": "153",
                                    "nagyobb_felnottek_szama": "4",
                                    "foglalasok_szama": "5"
                                },
                                {
                                    "szoba_fk": "110",
                                    "nagyobb_felnottek_szama": "5",
                                    "foglalasok_szama": "8"
                                },
                                {
                                    "szoba_fk": "10",
                                    "nagyobb_felnottek_szama": "4",
                                    "foglalasok_szama": "4"
                                },
                                {
                                    "szoba_fk": "133",
                                    "nagyobb_felnottek_szama": "4",
                                    "foglalasok_szama": "6"
                                },
                                {
                                    "szoba_fk": "61",
                                    "nagyobb_felnottek_szama": "4",
                                    "foglalasok_szama": "5"
                                },
                                {
                                    "szoba_fk": "196",
                                    "nagyobb_felnottek_szama": "2",
                                    "foglalasok_szama": "4"
                                },
                                {
                                    "szoba_fk": "90",
                                    "nagyobb_felnottek_szama": "3",
                                    "foglalasok_szama": "4"
                                },
                                {
                                    "szoba_fk": "41",
                                    "nagyobb_felnottek_szama": "1",
                                    "foglalasok_szama": "2"
                                },
                                {
                                    "szoba_fk": "104",
                                    "nagyobb_felnottek_szama": "3",
                                    "foglalasok_szama": "4"
                                },
                                {
                                    "szoba_fk": "4",
                                    "nagyobb_felnottek_szama": "5",
                                    "foglalasok_szama": "6"
                                },
                                {
                                    "szoba_fk": "147",
                                    "nagyobb_felnottek_szama": "1",
                                    "foglalasok_szama": "1"
                                },
                                {
                                    "szoba_fk": "119",
                                    "nagyobb_felnottek_szama": "4",
                                    "foglalasok_szama": "5"
                                },
                                {
                                    "szoba_fk": "96",
                                    "nagyobb_felnottek_szama": "6",
                                    "foglalasok_szama": "7"
                                },
                                {
                                    "szoba_fk": "165",
                                    "nagyobb_felnottek_szama": "5",
                                    "foglalasok_szama": "7"
                                },
                                {
                                    "szoba_fk": "142",
                                    "nagyobb_felnottek_szama": "1",
                                    "foglalasok_szama": "2"
                                },
                                {
                                    "szoba_fk": "188",
                                    "nagyobb_felnottek_szama": "2",
                                    "foglalasok_szama": "6"
                                },
                                {
                                    "szoba_fk": "125",
                                    "nagyobb_felnottek_szama": "0",
                                    "foglalasok_szama": "1"
                                },
                                {
                                    "szoba_fk": "65",
                                    "nagyobb_felnottek_szama": "0",
                                    "foglalasok_szama": "1"
                                },
                                {
                                    "szoba_fk": "79",
                                    "nagyobb_felnottek_szama": "4",
                                    "foglalasok_szama": "5"
                                },
                                {
                                    "szoba_fk": "19",
                                    "nagyobb_felnottek_szama": "4",
                                    "foglalasok_szama": "6"
                                },
                                {
                                    "szoba_fk": "171",
                                    "nagyobb_felnottek_szama": "5",
                                    "foglalasok_szama": "5"
                                },
                                {
                                    "szoba_fk": "73",
                                    "nagyobb_felnottek_szama": "4",
                                    "foglalasok_szama": "4"
                                },
                                {
                                    "szoba_fk": "25",
                                    "nagyobb_felnottek_szama": "1",
                                    "foglalasok_szama": "2"
                                },
                                {
                                    "szoba_fk": "36",
                                    "nagyobb_felnottek_szama": "4",
                                    "foglalasok_szama": "6"
                                },
                                {
                                    "szoba_fk": "105",
                                    "nagyobb_felnottek_szama": "0",
                                    "foglalasok_szama": "2"
                                },
                                {
                                    "szoba_fk": "179",
                                    "nagyobb_felnottek_szama": "2",
                                    "foglalasok_szama": "3"
                                },
                                {
                                    "szoba_fk": "85",
                                    "nagyobb_felnottek_szama": "2",
                                    "foglalasok_szama": "4"
                                },
                                {
                                    "szoba_fk": "136",
                                    "nagyobb_felnottek_szama": "2",
                                    "foglalasok_szama": "3"
                                },
                                {
                                    "szoba_fk": "62",
                                    "nagyobb_felnottek_szama": "3",
                                    "foglalasok_szama": "5"
                                },
                                {
                                    "szoba_fk": "13",
                                    "nagyobb_felnottek_szama": "4",
                                    "foglalasok_szama": "4"
                                },
                                {
                                    "szoba_fk": "42",
                                    "nagyobb_felnottek_szama": "5",
                                    "foglalasok_szama": "6"
                                },
                                {
                                    "szoba_fk": "5",
                                    "nagyobb_felnottek_szama": "2",
                                    "foglalasok_szama": "4"
                                },
                                {
                                    "szoba_fk": "56",
                                    "nagyobb_felnottek_szama": "1",
                                    "foglalasok_szama": "2"
                                },
                                {
                                    "szoba_fk": "99",
                                    "nagyobb_felnottek_szama": "4",
                                    "foglalasok_szama": "5"
                                },
                                {
                                    "szoba_fk": "148",
                                    "nagyobb_felnottek_szama": "5",
                                    "foglalasok_szama": "6"
                                },
                                {
                                    "szoba_fk": "168",
                                    "nagyobb_felnottek_szama": "1",
                                    "foglalasok_szama": "5"
                                },
                                {
                                    "szoba_fk": "191",
                                    "nagyobb_felnottek_szama": "3",
                                    "foglalasok_szama": "5"
                                },
                                {
                                    "szoba_fk": "116",
                                    "nagyobb_felnottek_szama": "0",
                                    "foglalasok_szama": "2"
                                },
                                {
                                    "szoba_fk": "139",
                                    "nagyobb_felnottek_szama": "6",
                                    "foglalasok_szama": "7"
                                },
                                {
                                    "szoba_fk": "162",
                                    "nagyobb_felnottek_szama": "2",
                                    "foglalasok_szama": "3"
                                },
                                {
                                    "szoba_fk": "185",
                                    "nagyobb_felnottek_szama": "10",
                                    "foglalasok_szama": "12"
                                },
                                {
                                    "szoba_fk": "128",
                                    "nagyobb_felnottek_szama": "0",
                                    "foglalasok_szama": "5"
                                },
                                {
                                    "szoba_fk": "122",
                                    "nagyobb_felnottek_szama": "3",
                                    "foglalasok_szama": "9"
                                },
                                {
                                    "szoba_fk": "22",
                                    "nagyobb_felnottek_szama": "2",
                                    "foglalasok_szama": "6"
                                },
                                {
                                    "szoba_fk": "76",
                                    "nagyobb_felnottek_szama": "2",
                                    "foglalasok_szama": "3"
                                },
                                {
                                    "szoba_fk": "59",
                                    "nagyobb_felnottek_szama": "4",
                                    "foglalasok_szama": "7"
                                },
                                {
                                    "szoba_fk": "108",
                                    "nagyobb_felnottek_szama": "1",
                                    "foglalasok_szama": "2"
                                },
                                {
                                    "szoba_fk": "82",
                                    "nagyobb_felnottek_szama": "5",
                                    "foglalasok_szama": "6"
                                },
                                {
                                    "szoba_fk": "39",
                                    "nagyobb_felnottek_szama": "4",
                                    "foglalasok_szama": "7"
                                },
                                {
                                    "szoba_fk": "33",
                                    "nagyobb_felnottek_szama": "3",
                                    "foglalasok_szama": "6"
                                },
                                {
                                    "szoba_fk": "182",
                                    "nagyobb_felnottek_szama": "11",
                                    "foglalasok_szama": "12"
                                },
                                {
                                    "szoba_fk": "16",
                                    "nagyobb_felnottek_szama": "1",
                                    "foglalasok_szama": "5"
                                },
                                {
                                    "szoba_fk": "88",
                                    "nagyobb_felnottek_szama": "5",
                                    "foglalasok_szama": "8"
                                },
                                {
                                    "szoba_fk": "102",
                                    "nagyobb_felnottek_szama": "1",
                                    "foglalasok_szama": "2"
                                },
                                {
                                    "szoba_fk": "53",
                                    "nagyobb_felnottek_szama": "0",
                                    "foglalasok_szama": "2"
                                },
                                {
                                    "szoba_fk": "45",
                                    "nagyobb_felnottek_szama": "4",
                                    "foglalasok_szama": "5"
                                },
                                {
                                    "szoba_fk": "145",
                                    "nagyobb_felnottek_szama": "2",
                                    "foglalasok_szama": "6"
                                },
                                {
                                    "szoba_fk": "2",
                                    "nagyobb_felnottek_szama": "2",
                                    "foglalasok_szama": "4"
                                },
                                {
                                    "szoba_fk": "48",
                                    "nagyobb_felnottek_szama": "6",
                                    "foglalasok_szama": "9"
                                },
                                {
                                    "szoba_fk": "71",
                                    "nagyobb_felnottek_szama": "2",
                                    "foglalasok_szama": "3"
                                },
                                {
                                    "szoba_fk": "94",
                                    "nagyobb_felnottek_szama": "6",
                                    "foglalasok_szama": "10"
                                },
                                {
                                    "szoba_fk": "117",
                                    "nagyobb_felnottek_szama": "4",
                                    "foglalasok_szama": "8"
                                },
                                {
                                    "szoba_fk": "140",
                                    "nagyobb_felnottek_szama": "5",
                                    "foglalasok_szama": "8"
                                },
                                {
                                    "szoba_fk": "163",
                                    "nagyobb_felnottek_szama": "5",
                                    "foglalasok_szama": "7"
                                },
                                {
                                    "szoba_fk": "186",
                                    "nagyobb_felnottek_szama": "1",
                                    "foglalasok_szama": "4"
                                },
                                {
                                    "szoba_fk": "77",
                                    "nagyobb_felnottek_szama": "3",
                                    "foglalasok_szama": "6"
                                },
                                {
                                    "szoba_fk": "17",
                                    "nagyobb_felnottek_szama": "2",
                                    "foglalasok_szama": "6"
                                },
                                {
                                    "szoba_fk": "31",
                                    "nagyobb_felnottek_szama": "1",
                                    "foglalasok_szama": "3"
                                },
                                {
                                    "szoba_fk": "123",
                                    "nagyobb_felnottek_szama": "5",
                                    "foglalasok_szama": "5"
                                },
                                {
                                    "szoba_fk": "60",
                                    "nagyobb_felnottek_szama": "1",
                                    "foglalasok_szama": "1"
                                },
                                {
                                    "szoba_fk": "83",
                                    "nagyobb_felnottek_szama": "5",
                                    "foglalasok_szama": "8"
                                },
                                {
                                    "szoba_fk": "177",
                                    "nagyobb_felnottek_szama": "1",
                                    "foglalasok_szama": "4"
                                },
                                {
                                    "szoba_fk": "154",
                                    "nagyobb_felnottek_szama": "3",
                                    "foglalasok_szama": "5"
                                },
                                {
                                    "szoba_fk": "134",
                                    "nagyobb_felnottek_szama": "4",
                                    "foglalasok_szama": "6"
                                },
                                {
                                    "szoba_fk": "34",
                                    "nagyobb_felnottek_szama": "3",
                                    "foglalasok_szama": "4"
                                },
                                {
                                    "szoba_fk": "40",
                                    "nagyobb_felnottek_szama": "3",
                                    "foglalasok_szama": "4"
                                },
                                {
                                    "szoba_fk": "11",
                                    "nagyobb_felnottek_szama": "4",
                                    "foglalasok_szama": "4"
                                },
                                {
                                    "szoba_fk": "183",
                                    "nagyobb_felnottek_szama": "3",
                                    "foglalasok_szama": "4"
                                },
                                {
                                    "szoba_fk": "111",
                                    "nagyobb_felnottek_szama": "1",
                                    "foglalasok_szama": "5"
                                },
                                {
                                    "szoba_fk": "160",
                                    "nagyobb_felnottek_szama": "2",
                                    "foglalasok_szama": "5"
                                },
                                {
                                    "szoba_fk": "54",
                                    "nagyobb_felnottek_szama": "4",
                                    "foglalasok_szama": "6"
                                },
                                {
                                    "szoba_fk": "91",
                                    "nagyobb_felnottek_szama": "2",
                                    "foglalasok_szama": "4"
                                },
                                {
                                    "szoba_fk": "103",
                                    "nagyobb_felnottek_szama": "1",
                                    "foglalasok_szama": "4"
                                },
                                {
                                    "szoba_fk": "97",
                                    "nagyobb_felnottek_szama": "5",
                                    "foglalasok_szama": "7"
                                },
                                {
                                    "szoba_fk": "197",
                                    "nagyobb_felnottek_szama": "6",
                                    "foglalasok_szama": "6"
                                },
                                {
                                    "szoba_fk": "143",
                                    "nagyobb_felnottek_szama": "5",
                                    "foglalasok_szama": "7"
                                },
                                {
                                    "szoba_fk": "120",
                                    "nagyobb_felnottek_szama": "2",
                                    "foglalasok_szama": "6"
                                },
                                {
                                    "szoba_fk": "166",
                                    "nagyobb_felnottek_szama": "3",
                                    "foglalasok_szama": "3"
                                },
                                {
                                    "szoba_fk": "114",
                                    "nagyobb_felnottek_szama": "1",
                                    "foglalasok_szama": "4"
                                },
                                {
                                    "szoba_fk": "20",
                                    "nagyobb_felnottek_szama": "5",
                                    "foglalasok_szama": "5"
                                },
                                {
                                    "szoba_fk": "68",
                                    "nagyobb_felnottek_szama": "0",
                                    "foglalasok_szama": "3"
                                },
                                {
                                    "szoba_fk": "80",
                                    "nagyobb_felnottek_szama": "5",
                                    "foglalasok_szama": "7"
                                },
                                {
                                    "szoba_fk": "28",
                                    "nagyobb_felnottek_szama": "5",
                                    "foglalasok_szama": "6"
                                },
                                {
                                    "szoba_fk": "174",
                                    "nagyobb_felnottek_szama": "4",
                                    "foglalasok_szama": "4"
                                },
                                {
                                    "szoba_fk": "74",
                                    "nagyobb_felnottek_szama": "8",
                                    "foglalasok_szama": "9"
                                },
                                {
                                    "szoba_fk": "131",
                                    "nagyobb_felnottek_szama": "4",
                                    "foglalasok_szama": "5"
                                },
                                {
                                    "szoba_fk": "180",
                                    "nagyobb_felnottek_szama": "1",
                                    "foglalasok_szama": "3"
                                },
                                {
                                    "szoba_fk": "57",
                                    "nagyobb_felnottek_szama": "3",
                                    "foglalasok_szama": "4"
                                },
                                {
                                    "szoba_fk": "157",
                                    "nagyobb_felnottek_szama": "2",
                                    "foglalasok_szama": "5"
                                },
                                {
                                    "szoba_fk": "14",
                                    "nagyobb_felnottek_szama": "3",
                                    "foglalasok_szama": "3"
                                },
                                {
                                    "szoba_fk": "37",
                                    "nagyobb_felnottek_szama": "2",
                                    "foglalasok_szama": "3"
                                },
                                {
                                    "szoba_fk": "137",
                                    "nagyobb_felnottek_szama": "2",
                                    "foglalasok_szama": "6"
                                },
                                {
                                    "szoba_fk": "8",
                                    "nagyobb_felnottek_szama": "5",
                                    "foglalasok_szama": "5"
                                },
                                {
                                    "szoba_fk": "51",
                                    "nagyobb_felnottek_szama": "3",
                                    "foglalasok_szama": "5"
                                },
                                {
                                    "szoba_fk": "151",
                                    "nagyobb_felnottek_szama": "2",
                                    "foglalasok_szama": "3"
                                },
                                {
                                    "szoba_fk": "194",
                                    "nagyobb_felnottek_szama": "1",
                                    "foglalasok_szama": "1"
                                },
                                {
                                    "szoba_fk": "100",
                                    "nagyobb_felnottek_szama": "2",
                                    "foglalasok_szama": "4"
                                }
                            ]
                        },
                        "text/html": [
                            "<table>",
                            "<tr><th>szoba_fk</th><th>nagyobb_felnottek_szama</th><th>foglalasok_szama</th></tr>",
                            "<tr><td>23</td><td>3</td><td>3</td></tr>",
                            "<tr><td>46</td><td>3</td><td>4</td></tr>",
                            "<tr><td>192</td><td>1</td><td>2</td></tr>",
                            "<tr><td>69</td><td>2</td><td>4</td></tr>",
                            "<tr><td>92</td><td>5</td><td>6</td></tr>",
                            "<tr><td>115</td><td>5</td><td>7</td></tr>",
                            "<tr><td>138</td><td>5</td><td>7</td></tr>",
                            "<tr><td>161</td><td>3</td><td>6</td></tr>",
                            "<tr><td>29</td><td>3</td><td>6</td></tr>",
                            "<tr><td>169</td><td>3</td><td>6</td></tr>",
                            "<tr><td>175</td><td>3</td><td>5</td></tr>",
                            "<tr><td>75</td><td>2</td><td>3</td></tr>",
                            "<tr><td>132</td><td>4</td><td>6</td></tr>",
                            "<tr><td>9</td><td>4</td><td>6</td></tr>",
                            "<tr><td>181</td><td>5</td><td>6</td></tr>",
                            "<tr><td>15</td><td>4</td><td>6</td></tr>",
                            "<tr><td>109</td><td>2</td><td>7</td></tr>",
                            "<tr><td>158</td><td>3</td><td>3</td></tr>",
                            "<tr><td>89</td><td>8</td><td>8</td></tr>",
                            "<tr><td>195</td><td>5</td><td>6</td></tr>",
                            "<tr><td>3</td><td>3</td><td>8</td></tr>",
                            "<tr><td>146</td><td>3</td><td>6</td></tr>",
                            "<tr><td>152</td><td>3</td><td>4</td></tr>",
                            "<tr><td>52</td><td>5</td><td>5</td></tr>",
                            "<tr><td>95</td><td>3</td><td>4</td></tr>",
                            "<tr><td>189</td><td>1</td><td>5</td></tr>",
                            "<tr><td>72</td><td>2</td><td>4</td></tr>",
                            "<tr><td>118</td><td>2</td><td>7</td></tr>",
                            "<tr><td>172</td><td>6</td><td>9</td></tr>",
                            "<tr><td>78</td><td>3</td><td>6</td></tr>",
                            "<tr><td>66</td><td>3</td><td>4</td></tr>",
                            "<tr><td>32</td><td>1</td><td>1</td></tr>",
                            "<tr><td>126</td><td>4</td><td>6</td></tr>",
                            "<tr><td>26</td><td>0</td><td>2</td></tr>",
                            "<tr><td>12</td><td>7</td><td>9</td></tr>",
                            "<tr><td>178</td><td>1</td><td>4</td></tr>",
                            "<tr><td>35</td><td>6</td><td>9</td></tr>",
                            "<tr><td>129</td><td>3</td><td>4</td></tr>",
                            "<tr><td>155</td><td>3</td><td>5</td></tr>",
                            "<tr><td>106</td><td>4</td><td>6</td></tr>",
                            "<tr><td>86</td><td>4</td><td>5</td></tr>",
                            "<tr><td>135</td><td>3</td><td>3</td></tr>",
                            "<tr><td>63</td><td>3</td><td>4</td></tr>",
                            "<tr><td>112</td><td>4</td><td>5</td></tr>",
                            "<tr><td>6</td><td>5</td><td>6</td></tr>",
                            "<tr><td>43</td><td>4</td><td>8</td></tr>",
                            "<tr><td>55</td><td>3</td><td>8</td></tr>",
                            "<tr><td>98</td><td>4</td><td>4</td></tr>",
                            "<tr><td>49</td><td>5</td><td>7</td></tr>",
                            "<tr><td>149</td><td>5</td><td>7</td></tr>",
                            "<tr><td>198</td><td>7</td><td>8</td></tr>",
                            "<tr><td>190</td><td>5</td><td>5</td></tr>",
                            "<tr><td>144</td><td>2</td><td>5</td></tr>",
                            "<tr><td>167</td><td>2</td><td>2</td></tr>",
                            "<tr><td>184</td><td>4</td><td>4</td></tr>",
                            "<tr><td>113</td><td>2</td><td>5</td></tr>",
                            "<tr><td>67</td><td>2</td><td>6</td></tr>",
                            "<tr><td>21</td><td>1</td><td>4</td></tr>",
                            "<tr><td>27</td><td>5</td><td>7</td></tr>",
                            "<tr><td>127</td><td>5</td><td>7</td></tr>",
                            "<tr><td>121</td><td>5</td><td>8</td></tr>",
                            "<tr><td>173</td><td>3</td><td>4</td></tr>",
                            "<tr><td>107</td><td>4</td><td>5</td></tr>",
                            "<tr><td>156</td><td>2</td><td>7</td></tr>",
                            "<tr><td>58</td><td>8</td><td>13</td></tr>",
                            "<tr><td>130</td><td>5</td><td>6</td></tr>",
                            "<tr><td>81</td><td>3</td><td>5</td></tr>",
                            "<tr><td>64</td><td>5</td><td>6</td></tr>",
                            "<tr><td>87</td><td>5</td><td>5</td></tr>",
                            "<tr><td>38</td><td>5</td><td>8</td></tr>",
                            "<tr><td>101</td><td>1</td><td>3</td></tr>",
                            "<tr><td>7</td><td>6</td><td>6</td></tr>",
                            "<tr><td>44</td><td>6</td><td>6</td></tr>",
                            "<tr><td>193</td><td>2</td><td>7</td></tr>",
                            "<tr><td>150</td><td>6</td><td>6</td></tr>",
                            "<tr><td>1</td><td>7</td><td>8</td></tr>",
                            "<tr><td>50</td><td>3</td><td>4</td></tr>",
                            "<tr><td>24</td><td>3</td><td>3</td></tr>",
                            "<tr><td>47</td><td>2</td><td>2</td></tr>",
                            "<tr><td>141</td><td>4</td><td>6</td></tr>",
                            "<tr><td>70</td><td>8</td><td>11</td></tr>",
                            "<tr><td>93</td><td>3</td><td>5</td></tr>",
                            "<tr><td>187</td><td>6</td><td>7</td></tr>",
                            "<tr><td>164</td><td>4</td><td>5</td></tr>",
                            "<tr><td>30</td><td>2</td><td>3</td></tr>",
                            "<tr><td>18</td><td>3</td><td>6</td></tr>",
                            "<tr><td>170</td><td>3</td><td>5</td></tr>",
                            "<tr><td>176</td><td>2</td><td>6</td></tr>",
                            "<tr><td>124</td><td>4</td><td>6</td></tr>",
                            "<tr><td>84</td><td>3</td><td>4</td></tr>",
                            "<tr><td>153</td><td>4</td><td>5</td></tr>",
                            "<tr><td>110</td><td>5</td><td>8</td></tr>",
                            "<tr><td>10</td><td>4</td><td>4</td></tr>",
                            "<tr><td>133</td><td>4</td><td>6</td></tr>",
                            "<tr><td>61</td><td>4</td><td>5</td></tr>",
                            "<tr><td>196</td><td>2</td><td>4</td></tr>",
                            "<tr><td>90</td><td>3</td><td>4</td></tr>",
                            "<tr><td>41</td><td>1</td><td>2</td></tr>",
                            "<tr><td>104</td><td>3</td><td>4</td></tr>",
                            "<tr><td>4</td><td>5</td><td>6</td></tr>",
                            "<tr><td>147</td><td>1</td><td>1</td></tr>",
                            "<tr><td>119</td><td>4</td><td>5</td></tr>",
                            "<tr><td>96</td><td>6</td><td>7</td></tr>",
                            "<tr><td>165</td><td>5</td><td>7</td></tr>",
                            "<tr><td>142</td><td>1</td><td>2</td></tr>",
                            "<tr><td>188</td><td>2</td><td>6</td></tr>",
                            "<tr><td>125</td><td>0</td><td>1</td></tr>",
                            "<tr><td>65</td><td>0</td><td>1</td></tr>",
                            "<tr><td>79</td><td>4</td><td>5</td></tr>",
                            "<tr><td>19</td><td>4</td><td>6</td></tr>",
                            "<tr><td>171</td><td>5</td><td>5</td></tr>",
                            "<tr><td>73</td><td>4</td><td>4</td></tr>",
                            "<tr><td>25</td><td>1</td><td>2</td></tr>",
                            "<tr><td>36</td><td>4</td><td>6</td></tr>",
                            "<tr><td>105</td><td>0</td><td>2</td></tr>",
                            "<tr><td>179</td><td>2</td><td>3</td></tr>",
                            "<tr><td>85</td><td>2</td><td>4</td></tr>",
                            "<tr><td>136</td><td>2</td><td>3</td></tr>",
                            "<tr><td>62</td><td>3</td><td>5</td></tr>",
                            "<tr><td>13</td><td>4</td><td>4</td></tr>",
                            "<tr><td>42</td><td>5</td><td>6</td></tr>",
                            "<tr><td>5</td><td>2</td><td>4</td></tr>",
                            "<tr><td>56</td><td>1</td><td>2</td></tr>",
                            "<tr><td>99</td><td>4</td><td>5</td></tr>",
                            "<tr><td>148</td><td>5</td><td>6</td></tr>",
                            "<tr><td>168</td><td>1</td><td>5</td></tr>",
                            "<tr><td>191</td><td>3</td><td>5</td></tr>",
                            "<tr><td>116</td><td>0</td><td>2</td></tr>",
                            "<tr><td>139</td><td>6</td><td>7</td></tr>",
                            "<tr><td>162</td><td>2</td><td>3</td></tr>",
                            "<tr><td>185</td><td>10</td><td>12</td></tr>",
                            "<tr><td>128</td><td>0</td><td>5</td></tr>",
                            "<tr><td>122</td><td>3</td><td>9</td></tr>",
                            "<tr><td>22</td><td>2</td><td>6</td></tr>",
                            "<tr><td>76</td><td>2</td><td>3</td></tr>",
                            "<tr><td>59</td><td>4</td><td>7</td></tr>",
                            "<tr><td>108</td><td>1</td><td>2</td></tr>",
                            "<tr><td>82</td><td>5</td><td>6</td></tr>",
                            "<tr><td>39</td><td>4</td><td>7</td></tr>",
                            "<tr><td>33</td><td>3</td><td>6</td></tr>",
                            "<tr><td>182</td><td>11</td><td>12</td></tr>",
                            "<tr><td>16</td><td>1</td><td>5</td></tr>",
                            "<tr><td>88</td><td>5</td><td>8</td></tr>",
                            "<tr><td>102</td><td>1</td><td>2</td></tr>",
                            "<tr><td>53</td><td>0</td><td>2</td></tr>",
                            "<tr><td>45</td><td>4</td><td>5</td></tr>",
                            "<tr><td>145</td><td>2</td><td>6</td></tr>",
                            "<tr><td>2</td><td>2</td><td>4</td></tr>",
                            "<tr><td>48</td><td>6</td><td>9</td></tr>",
                            "<tr><td>71</td><td>2</td><td>3</td></tr>",
                            "<tr><td>94</td><td>6</td><td>10</td></tr>",
                            "<tr><td>117</td><td>4</td><td>8</td></tr>",
                            "<tr><td>140</td><td>5</td><td>8</td></tr>",
                            "<tr><td>163</td><td>5</td><td>7</td></tr>",
                            "<tr><td>186</td><td>1</td><td>4</td></tr>",
                            "<tr><td>77</td><td>3</td><td>6</td></tr>",
                            "<tr><td>17</td><td>2</td><td>6</td></tr>",
                            "<tr><td>31</td><td>1</td><td>3</td></tr>",
                            "<tr><td>123</td><td>5</td><td>5</td></tr>",
                            "<tr><td>60</td><td>1</td><td>1</td></tr>",
                            "<tr><td>83</td><td>5</td><td>8</td></tr>",
                            "<tr><td>177</td><td>1</td><td>4</td></tr>",
                            "<tr><td>154</td><td>3</td><td>5</td></tr>",
                            "<tr><td>134</td><td>4</td><td>6</td></tr>",
                            "<tr><td>34</td><td>3</td><td>4</td></tr>",
                            "<tr><td>40</td><td>3</td><td>4</td></tr>",
                            "<tr><td>11</td><td>4</td><td>4</td></tr>",
                            "<tr><td>183</td><td>3</td><td>4</td></tr>",
                            "<tr><td>111</td><td>1</td><td>5</td></tr>",
                            "<tr><td>160</td><td>2</td><td>5</td></tr>",
                            "<tr><td>54</td><td>4</td><td>6</td></tr>",
                            "<tr><td>91</td><td>2</td><td>4</td></tr>",
                            "<tr><td>103</td><td>1</td><td>4</td></tr>",
                            "<tr><td>97</td><td>5</td><td>7</td></tr>",
                            "<tr><td>197</td><td>6</td><td>6</td></tr>",
                            "<tr><td>143</td><td>5</td><td>7</td></tr>",
                            "<tr><td>120</td><td>2</td><td>6</td></tr>",
                            "<tr><td>166</td><td>3</td><td>3</td></tr>",
                            "<tr><td>114</td><td>1</td><td>4</td></tr>",
                            "<tr><td>20</td><td>5</td><td>5</td></tr>",
                            "<tr><td>68</td><td>0</td><td>3</td></tr>",
                            "<tr><td>80</td><td>5</td><td>7</td></tr>",
                            "<tr><td>28</td><td>5</td><td>6</td></tr>",
                            "<tr><td>174</td><td>4</td><td>4</td></tr>",
                            "<tr><td>74</td><td>8</td><td>9</td></tr>",
                            "<tr><td>131</td><td>4</td><td>5</td></tr>",
                            "<tr><td>180</td><td>1</td><td>3</td></tr>",
                            "<tr><td>57</td><td>3</td><td>4</td></tr>",
                            "<tr><td>157</td><td>2</td><td>5</td></tr>",
                            "<tr><td>14</td><td>3</td><td>3</td></tr>",
                            "<tr><td>37</td><td>2</td><td>3</td></tr>",
                            "<tr><td>137</td><td>2</td><td>6</td></tr>",
                            "<tr><td>8</td><td>5</td><td>5</td></tr>",
                            "<tr><td>51</td><td>3</td><td>5</td></tr>",
                            "<tr><td>151</td><td>2</td><td>3</td></tr>",
                            "<tr><td>194</td><td>1</td><td>1</td></tr>",
                            "<tr><td>100</td><td>2</td><td>4</td></tr>",
                            "</table>"
                        ]
                    }
                }
            ],
            "execution_count": 5
        },
        {
            "cell_type": "markdown",
            "source": [
                "2\\. Feladat"
            ],
            "metadata": {
                "azdata_cell_guid": "9d91079b-df8a-45c1-9f78-b7c265bded41"
            },
            "attachments": {}
        },
        {
            "cell_type": "code",
            "source": [
                "WITH FoglalasSzam AS (\r\n",
                "    SELECT \r\n",
                "            SZOBA_FK,\r\n",
                "            COUNT(*) AS foglalasok_szama\r\n",
                "\r\n",
                "    FROM Foglalas\r\n",
                "\r\n",
                "    GROUP BY SZOBA_FK\r\n",
                "),\r\n",
                "RangsoroltSzobak AS (\r\n",
                "    SELECT\r\n",
                "            s.szoba_id,\r\n",
                "            s.ferohely,\r\n",
                "            ROW_NUMBER() OVER (ORDER BY fs.foglalasok_szama DESC, s.ferohely ASC, s. szoba_id ASC) AS helyezes\r\n",
                "\r\n",
                "    FROM szoba s\r\n",
                "\r\n",
                "    LEFT JOIN FoglalasSzam fs ON s.SZOBA_ID = fs.szoba_fk\r\n",
                ")\r\n",
                "SELECT\r\n",
                "    szoba_id,\r\n",
                "    ferohely,\r\n",
                "    helyezes\r\n",
                "\r\n",
                "FROM RangsoroltSzobak\r\n",
                "\r\n",
                "ORDER BY helyezes"
            ],
            "metadata": {
                "azdata_cell_guid": "cd0d041b-a06f-4e07-a087-d514c54a653b",
                "language": "sql"
            },
            "outputs": [
                {
                    "output_type": "display_data",
                    "data": {
                        "text/html": "(294 rows affected)"
                    },
                    "metadata": {}
                },
                {
                    "output_type": "display_data",
                    "data": {
                        "text/html": "Total execution time: 00:00:00.008"
                    },
                    "metadata": {}
                },
                {
                    "output_type": "execute_result",
                    "metadata": {},
                    "execution_count": 8,
                    "data": {
                        "application/vnd.dataresource+json": {
                            "schema": {
                                "fields": [
                                    {
                                        "name": "szoba_id"
                                    },
                                    {
                                        "name": "ferohely"
                                    },
                                    {
                                        "name": "helyezes"
                                    }
                                ]
                            },
                            "data": [
                                {
                                    "szoba_id": "58",
                                    "ferohely": "2",
                                    "helyezes": "1"
                                },
                                {
                                    "szoba_id": "182",
                                    "ferohely": "2",
                                    "helyezes": "2"
                                },
                                {
                                    "szoba_id": "185",
                                    "ferohely": "3",
                                    "helyezes": "3"
                                },
                                {
                                    "szoba_id": "70",
                                    "ferohely": "2",
                                    "helyezes": "4"
                                },
                                {
                                    "szoba_id": "94",
                                    "ferohely": "2",
                                    "helyezes": "5"
                                },
                                {
                                    "szoba_id": "12",
                                    "ferohely": "2",
                                    "helyezes": "6"
                                },
                                {
                                    "szoba_id": "172",
                                    "ferohely": "2",
                                    "helyezes": "7"
                                },
                                {
                                    "szoba_id": "35",
                                    "ferohely": "3",
                                    "helyezes": "8"
                                },
                                {
                                    "szoba_id": "48",
                                    "ferohely": "3",
                                    "helyezes": "9"
                                },
                                {
                                    "szoba_id": "74",
                                    "ferohely": "3",
                                    "helyezes": "10"
                                },
                                {
                                    "szoba_id": "122",
                                    "ferohely": "3",
                                    "helyezes": "11"
                                },
                                {
                                    "szoba_id": "38",
                                    "ferohely": "2",
                                    "helyezes": "12"
                                },
                                {
                                    "szoba_id": "55",
                                    "ferohely": "2",
                                    "helyezes": "13"
                                },
                                {
                                    "szoba_id": "110",
                                    "ferohely": "2",
                                    "helyezes": "14"
                                },
                                {
                                    "szoba_id": "121",
                                    "ferohely": "2",
                                    "helyezes": "15"
                                },
                                {
                                    "szoba_id": "140",
                                    "ferohely": "2",
                                    "helyezes": "16"
                                },
                                {
                                    "szoba_id": "1",
                                    "ferohely": "3",
                                    "helyezes": "17"
                                },
                                {
                                    "szoba_id": "3",
                                    "ferohely": "3",
                                    "helyezes": "18"
                                },
                                {
                                    "szoba_id": "43",
                                    "ferohely": "3",
                                    "helyezes": "19"
                                },
                                {
                                    "szoba_id": "83",
                                    "ferohely": "3",
                                    "helyezes": "20"
                                },
                                {
                                    "szoba_id": "88",
                                    "ferohely": "3",
                                    "helyezes": "21"
                                },
                                {
                                    "szoba_id": "89",
                                    "ferohely": "3",
                                    "helyezes": "22"
                                },
                                {
                                    "szoba_id": "117",
                                    "ferohely": "3",
                                    "helyezes": "23"
                                },
                                {
                                    "szoba_id": "198",
                                    "ferohely": "3",
                                    "helyezes": "24"
                                },
                                {
                                    "szoba_id": "39",
                                    "ferohely": "2",
                                    "helyezes": "25"
                                },
                                {
                                    "szoba_id": "59",
                                    "ferohely": "2",
                                    "helyezes": "26"
                                },
                                {
                                    "szoba_id": "80",
                                    "ferohely": "2",
                                    "helyezes": "27"
                                },
                                {
                                    "szoba_id": "109",
                                    "ferohely": "2",
                                    "helyezes": "28"
                                },
                                {
                                    "szoba_id": "118",
                                    "ferohely": "2",
                                    "helyezes": "29"
                                },
                                {
                                    "szoba_id": "127",
                                    "ferohely": "2",
                                    "helyezes": "30"
                                },
                                {
                                    "szoba_id": "139",
                                    "ferohely": "2",
                                    "helyezes": "31"
                                },
                                {
                                    "szoba_id": "149",
                                    "ferohely": "2",
                                    "helyezes": "32"
                                },
                                {
                                    "szoba_id": "156",
                                    "ferohely": "2",
                                    "helyezes": "33"
                                },
                                {
                                    "szoba_id": "163",
                                    "ferohely": "2",
                                    "helyezes": "34"
                                },
                                {
                                    "szoba_id": "165",
                                    "ferohely": "2",
                                    "helyezes": "35"
                                },
                                {
                                    "szoba_id": "27",
                                    "ferohely": "3",
                                    "helyezes": "36"
                                },
                                {
                                    "szoba_id": "49",
                                    "ferohely": "3",
                                    "helyezes": "37"
                                },
                                {
                                    "szoba_id": "96",
                                    "ferohely": "3",
                                    "helyezes": "38"
                                },
                                {
                                    "szoba_id": "97",
                                    "ferohely": "3",
                                    "helyezes": "39"
                                },
                                {
                                    "szoba_id": "115",
                                    "ferohely": "3",
                                    "helyezes": "40"
                                },
                                {
                                    "szoba_id": "138",
                                    "ferohely": "3",
                                    "helyezes": "41"
                                },
                                {
                                    "szoba_id": "143",
                                    "ferohely": "3",
                                    "helyezes": "42"
                                },
                                {
                                    "szoba_id": "187",
                                    "ferohely": "3",
                                    "helyezes": "43"
                                },
                                {
                                    "szoba_id": "193",
                                    "ferohely": "3",
                                    "helyezes": "44"
                                },
                                {
                                    "szoba_id": "4",
                                    "ferohely": "2",
                                    "helyezes": "45"
                                },
                                {
                                    "szoba_id": "7",
                                    "ferohely": "2",
                                    "helyezes": "46"
                                },
                                {
                                    "szoba_id": "15",
                                    "ferohely": "2",
                                    "helyezes": "47"
                                },
                                {
                                    "szoba_id": "19",
                                    "ferohely": "2",
                                    "helyezes": "48"
                                },
                                {
                                    "szoba_id": "28",
                                    "ferohely": "2",
                                    "helyezes": "49"
                                },
                                {
                                    "szoba_id": "29",
                                    "ferohely": "2",
                                    "helyezes": "50"
                                },
                                {
                                    "szoba_id": "33",
                                    "ferohely": "2",
                                    "helyezes": "51"
                                },
                                {
                                    "szoba_id": "42",
                                    "ferohely": "2",
                                    "helyezes": "52"
                                },
                                {
                                    "szoba_id": "64",
                                    "ferohely": "2",
                                    "helyezes": "53"
                                },
                                {
                                    "szoba_id": "67",
                                    "ferohely": "2",
                                    "helyezes": "54"
                                },
                                {
                                    "szoba_id": "78",
                                    "ferohely": "2",
                                    "helyezes": "55"
                                },
                                {
                                    "szoba_id": "106",
                                    "ferohely": "2",
                                    "helyezes": "56"
                                },
                                {
                                    "szoba_id": "126",
                                    "ferohely": "2",
                                    "helyezes": "57"
                                },
                                {
                                    "szoba_id": "130",
                                    "ferohely": "2",
                                    "helyezes": "58"
                                },
                                {
                                    "szoba_id": "137",
                                    "ferohely": "2",
                                    "helyezes": "59"
                                },
                                {
                                    "szoba_id": "141",
                                    "ferohely": "2",
                                    "helyezes": "60"
                                },
                                {
                                    "szoba_id": "145",
                                    "ferohely": "2",
                                    "helyezes": "61"
                                },
                                {
                                    "szoba_id": "148",
                                    "ferohely": "2",
                                    "helyezes": "62"
                                },
                                {
                                    "szoba_id": "150",
                                    "ferohely": "2",
                                    "helyezes": "63"
                                },
                                {
                                    "szoba_id": "161",
                                    "ferohely": "2",
                                    "helyezes": "64"
                                },
                                {
                                    "szoba_id": "169",
                                    "ferohely": "2",
                                    "helyezes": "65"
                                },
                                {
                                    "szoba_id": "195",
                                    "ferohely": "2",
                                    "helyezes": "66"
                                },
                                {
                                    "szoba_id": "6",
                                    "ferohely": "3",
                                    "helyezes": "67"
                                },
                                {
                                    "szoba_id": "9",
                                    "ferohely": "3",
                                    "helyezes": "68"
                                },
                                {
                                    "szoba_id": "17",
                                    "ferohely": "3",
                                    "helyezes": "69"
                                },
                                {
                                    "szoba_id": "18",
                                    "ferohely": "3",
                                    "helyezes": "70"
                                },
                                {
                                    "szoba_id": "22",
                                    "ferohely": "3",
                                    "helyezes": "71"
                                },
                                {
                                    "szoba_id": "36",
                                    "ferohely": "3",
                                    "helyezes": "72"
                                },
                                {
                                    "szoba_id": "44",
                                    "ferohely": "3",
                                    "helyezes": "73"
                                },
                                {
                                    "szoba_id": "54",
                                    "ferohely": "3",
                                    "helyezes": "74"
                                },
                                {
                                    "szoba_id": "77",
                                    "ferohely": "3",
                                    "helyezes": "75"
                                },
                                {
                                    "szoba_id": "82",
                                    "ferohely": "3",
                                    "helyezes": "76"
                                },
                                {
                                    "szoba_id": "92",
                                    "ferohely": "3",
                                    "helyezes": "77"
                                },
                                {
                                    "szoba_id": "120",
                                    "ferohely": "3",
                                    "helyezes": "78"
                                },
                                {
                                    "szoba_id": "124",
                                    "ferohely": "3",
                                    "helyezes": "79"
                                },
                                {
                                    "szoba_id": "132",
                                    "ferohely": "3",
                                    "helyezes": "80"
                                },
                                {
                                    "szoba_id": "133",
                                    "ferohely": "3",
                                    "helyezes": "81"
                                },
                                {
                                    "szoba_id": "134",
                                    "ferohely": "3",
                                    "helyezes": "82"
                                },
                                {
                                    "szoba_id": "146",
                                    "ferohely": "3",
                                    "helyezes": "83"
                                },
                                {
                                    "szoba_id": "176",
                                    "ferohely": "3",
                                    "helyezes": "84"
                                },
                                {
                                    "szoba_id": "181",
                                    "ferohely": "3",
                                    "helyezes": "85"
                                },
                                {
                                    "szoba_id": "188",
                                    "ferohely": "3",
                                    "helyezes": "86"
                                },
                                {
                                    "szoba_id": "197",
                                    "ferohely": "3",
                                    "helyezes": "87"
                                },
                                {
                                    "szoba_id": "45",
                                    "ferohely": "2",
                                    "helyezes": "88"
                                },
                                {
                                    "szoba_id": "52",
                                    "ferohely": "2",
                                    "helyezes": "89"
                                },
                                {
                                    "szoba_id": "62",
                                    "ferohely": "2",
                                    "helyezes": "90"
                                },
                                {
                                    "szoba_id": "81",
                                    "ferohely": "2",
                                    "helyezes": "91"
                                },
                                {
                                    "szoba_id": "86",
                                    "ferohely": "2",
                                    "helyezes": "92"
                                },
                                {
                                    "szoba_id": "99",
                                    "ferohely": "2",
                                    "helyezes": "93"
                                },
                                {
                                    "szoba_id": "107",
                                    "ferohely": "2",
                                    "helyezes": "94"
                                },
                                {
                                    "szoba_id": "111",
                                    "ferohely": "2",
                                    "helyezes": "95"
                                },
                                {
                                    "szoba_id": "119",
                                    "ferohely": "2",
                                    "helyezes": "96"
                                },
                                {
                                    "szoba_id": "128",
                                    "ferohely": "2",
                                    "helyezes": "97"
                                },
                                {
                                    "szoba_id": "131",
                                    "ferohely": "2",
                                    "helyezes": "98"
                                },
                                {
                                    "szoba_id": "154",
                                    "ferohely": "2",
                                    "helyezes": "99"
                                },
                                {
                                    "szoba_id": "157",
                                    "ferohely": "2",
                                    "helyezes": "100"
                                },
                                {
                                    "szoba_id": "164",
                                    "ferohely": "2",
                                    "helyezes": "101"
                                },
                                {
                                    "szoba_id": "168",
                                    "ferohely": "2",
                                    "helyezes": "102"
                                },
                                {
                                    "szoba_id": "170",
                                    "ferohely": "2",
                                    "helyezes": "103"
                                },
                                {
                                    "szoba_id": "171",
                                    "ferohely": "2",
                                    "helyezes": "104"
                                },
                                {
                                    "szoba_id": "175",
                                    "ferohely": "2",
                                    "helyezes": "105"
                                },
                                {
                                    "szoba_id": "189",
                                    "ferohely": "2",
                                    "helyezes": "106"
                                },
                                {
                                    "szoba_id": "190",
                                    "ferohely": "2",
                                    "helyezes": "107"
                                },
                                {
                                    "szoba_id": "191",
                                    "ferohely": "2",
                                    "helyezes": "108"
                                },
                                {
                                    "szoba_id": "8",
                                    "ferohely": "3",
                                    "helyezes": "109"
                                },
                                {
                                    "szoba_id": "16",
                                    "ferohely": "3",
                                    "helyezes": "110"
                                },
                                {
                                    "szoba_id": "20",
                                    "ferohely": "3",
                                    "helyezes": "111"
                                },
                                {
                                    "szoba_id": "51",
                                    "ferohely": "3",
                                    "helyezes": "112"
                                },
                                {
                                    "szoba_id": "61",
                                    "ferohely": "3",
                                    "helyezes": "113"
                                },
                                {
                                    "szoba_id": "79",
                                    "ferohely": "3",
                                    "helyezes": "114"
                                },
                                {
                                    "szoba_id": "87",
                                    "ferohely": "3",
                                    "helyezes": "115"
                                },
                                {
                                    "szoba_id": "93",
                                    "ferohely": "3",
                                    "helyezes": "116"
                                },
                                {
                                    "szoba_id": "112",
                                    "ferohely": "3",
                                    "helyezes": "117"
                                },
                                {
                                    "szoba_id": "113",
                                    "ferohely": "3",
                                    "helyezes": "118"
                                },
                                {
                                    "szoba_id": "123",
                                    "ferohely": "3",
                                    "helyezes": "119"
                                },
                                {
                                    "szoba_id": "144",
                                    "ferohely": "3",
                                    "helyezes": "120"
                                },
                                {
                                    "szoba_id": "153",
                                    "ferohely": "3",
                                    "helyezes": "121"
                                },
                                {
                                    "szoba_id": "155",
                                    "ferohely": "3",
                                    "helyezes": "122"
                                },
                                {
                                    "szoba_id": "160",
                                    "ferohely": "3",
                                    "helyezes": "123"
                                },
                                {
                                    "szoba_id": "5",
                                    "ferohely": "2",
                                    "helyezes": "124"
                                },
                                {
                                    "szoba_id": "11",
                                    "ferohely": "2",
                                    "helyezes": "125"
                                },
                                {
                                    "szoba_id": "21",
                                    "ferohely": "2",
                                    "helyezes": "126"
                                },
                                {
                                    "szoba_id": "50",
                                    "ferohely": "2",
                                    "helyezes": "127"
                                },
                                {
                                    "szoba_id": "57",
                                    "ferohely": "2",
                                    "helyezes": "128"
                                },
                                {
                                    "szoba_id": "63",
                                    "ferohely": "2",
                                    "helyezes": "129"
                                },
                                {
                                    "szoba_id": "72",
                                    "ferohely": "2",
                                    "helyezes": "130"
                                },
                                {
                                    "szoba_id": "73",
                                    "ferohely": "2",
                                    "helyezes": "131"
                                },
                                {
                                    "szoba_id": "85",
                                    "ferohely": "2",
                                    "helyezes": "132"
                                },
                                {
                                    "szoba_id": "91",
                                    "ferohely": "2",
                                    "helyezes": "133"
                                },
                                {
                                    "szoba_id": "98",
                                    "ferohely": "2",
                                    "helyezes": "134"
                                },
                                {
                                    "szoba_id": "100",
                                    "ferohely": "2",
                                    "helyezes": "135"
                                },
                                {
                                    "szoba_id": "103",
                                    "ferohely": "2",
                                    "helyezes": "136"
                                },
                                {
                                    "szoba_id": "114",
                                    "ferohely": "2",
                                    "helyezes": "137"
                                },
                                {
                                    "szoba_id": "129",
                                    "ferohely": "2",
                                    "helyezes": "138"
                                },
                                {
                                    "szoba_id": "152",
                                    "ferohely": "2",
                                    "helyezes": "139"
                                },
                                {
                                    "szoba_id": "173",
                                    "ferohely": "2",
                                    "helyezes": "140"
                                },
                                {
                                    "szoba_id": "174",
                                    "ferohely": "2",
                                    "helyezes": "141"
                                },
                                {
                                    "szoba_id": "184",
                                    "ferohely": "2",
                                    "helyezes": "142"
                                },
                                {
                                    "szoba_id": "186",
                                    "ferohely": "2",
                                    "helyezes": "143"
                                },
                                {
                                    "szoba_id": "196",
                                    "ferohely": "2",
                                    "helyezes": "144"
                                },
                                {
                                    "szoba_id": "2",
                                    "ferohely": "3",
                                    "helyezes": "145"
                                },
                                {
                                    "szoba_id": "10",
                                    "ferohely": "3",
                                    "helyezes": "146"
                                },
                                {
                                    "szoba_id": "13",
                                    "ferohely": "3",
                                    "helyezes": "147"
                                },
                                {
                                    "szoba_id": "34",
                                    "ferohely": "3",
                                    "helyezes": "148"
                                },
                                {
                                    "szoba_id": "40",
                                    "ferohely": "3",
                                    "helyezes": "149"
                                },
                                {
                                    "szoba_id": "46",
                                    "ferohely": "3",
                                    "helyezes": "150"
                                },
                                {
                                    "szoba_id": "66",
                                    "ferohely": "3",
                                    "helyezes": "151"
                                },
                                {
                                    "szoba_id": "69",
                                    "ferohely": "3",
                                    "helyezes": "152"
                                },
                                {
                                    "szoba_id": "84",
                                    "ferohely": "3",
                                    "helyezes": "153"
                                },
                                {
                                    "szoba_id": "90",
                                    "ferohely": "3",
                                    "helyezes": "154"
                                },
                                {
                                    "szoba_id": "95",
                                    "ferohely": "3",
                                    "helyezes": "155"
                                },
                                {
                                    "szoba_id": "104",
                                    "ferohely": "3",
                                    "helyezes": "156"
                                },
                                {
                                    "szoba_id": "177",
                                    "ferohely": "3",
                                    "helyezes": "157"
                                },
                                {
                                    "szoba_id": "178",
                                    "ferohely": "3",
                                    "helyezes": "158"
                                },
                                {
                                    "szoba_id": "183",
                                    "ferohely": "3",
                                    "helyezes": "159"
                                },
                                {
                                    "szoba_id": "23",
                                    "ferohely": "2",
                                    "helyezes": "160"
                                },
                                {
                                    "szoba_id": "37",
                                    "ferohely": "2",
                                    "helyezes": "161"
                                },
                                {
                                    "szoba_id": "68",
                                    "ferohely": "2",
                                    "helyezes": "162"
                                },
                                {
                                    "szoba_id": "75",
                                    "ferohely": "2",
                                    "helyezes": "163"
                                },
                                {
                                    "szoba_id": "76",
                                    "ferohely": "2",
                                    "helyezes": "164"
                                },
                                {
                                    "szoba_id": "101",
                                    "ferohely": "2",
                                    "helyezes": "165"
                                },
                                {
                                    "szoba_id": "136",
                                    "ferohely": "2",
                                    "helyezes": "166"
                                },
                                {
                                    "szoba_id": "151",
                                    "ferohely": "2",
                                    "helyezes": "167"
                                },
                                {
                                    "szoba_id": "158",
                                    "ferohely": "2",
                                    "helyezes": "168"
                                },
                                {
                                    "szoba_id": "166",
                                    "ferohely": "2",
                                    "helyezes": "169"
                                },
                                {
                                    "szoba_id": "180",
                                    "ferohely": "2",
                                    "helyezes": "170"
                                },
                                {
                                    "szoba_id": "14",
                                    "ferohely": "3",
                                    "helyezes": "171"
                                },
                                {
                                    "szoba_id": "30",
                                    "ferohely": "3",
                                    "helyezes": "172"
                                },
                                {
                                    "szoba_id": "31",
                                    "ferohely": "3",
                                    "helyezes": "173"
                                },
                                {
                                    "szoba_id": "71",
                                    "ferohely": "3",
                                    "helyezes": "174"
                                },
                                {
                                    "szoba_id": "135",
                                    "ferohely": "3",
                                    "helyezes": "175"
                                },
                                {
                                    "szoba_id": "162",
                                    "ferohely": "3",
                                    "helyezes": "176"
                                },
                                {
                                    "szoba_id": "179",
                                    "ferohely": "3",
                                    "helyezes": "177"
                                },
                                {
                                    "szoba_id": "24",
                                    "ferohely": "4",
                                    "helyezes": "178"
                                },
                                {
                                    "szoba_id": "26",
                                    "ferohely": "2",
                                    "helyezes": "179"
                                },
                                {
                                    "szoba_id": "47",
                                    "ferohely": "2",
                                    "helyezes": "180"
                                },
                                {
                                    "szoba_id": "53",
                                    "ferohely": "2",
                                    "helyezes": "181"
                                },
                                {
                                    "szoba_id": "56",
                                    "ferohely": "2",
                                    "helyezes": "182"
                                },
                                {
                                    "szoba_id": "102",
                                    "ferohely": "2",
                                    "helyezes": "183"
                                },
                                {
                                    "szoba_id": "105",
                                    "ferohely": "2",
                                    "helyezes": "184"
                                },
                                {
                                    "szoba_id": "108",
                                    "ferohely": "2",
                                    "helyezes": "185"
                                },
                                {
                                    "szoba_id": "192",
                                    "ferohely": "2",
                                    "helyezes": "186"
                                },
                                {
                                    "szoba_id": "25",
                                    "ferohely": "3",
                                    "helyezes": "187"
                                },
                                {
                                    "szoba_id": "41",
                                    "ferohely": "3",
                                    "helyezes": "188"
                                },
                                {
                                    "szoba_id": "116",
                                    "ferohely": "3",
                                    "helyezes": "189"
                                },
                                {
                                    "szoba_id": "142",
                                    "ferohely": "3",
                                    "helyezes": "190"
                                },
                                {
                                    "szoba_id": "167",
                                    "ferohely": "3",
                                    "helyezes": "191"
                                },
                                {
                                    "szoba_id": "32",
                                    "ferohely": "2",
                                    "helyezes": "192"
                                },
                                {
                                    "szoba_id": "65",
                                    "ferohely": "2",
                                    "helyezes": "193"
                                },
                                {
                                    "szoba_id": "125",
                                    "ferohely": "2",
                                    "helyezes": "194"
                                },
                                {
                                    "szoba_id": "147",
                                    "ferohely": "2",
                                    "helyezes": "195"
                                },
                                {
                                    "szoba_id": "194",
                                    "ferohely": "2",
                                    "helyezes": "196"
                                },
                                {
                                    "szoba_id": "60",
                                    "ferohely": "3",
                                    "helyezes": "197"
                                },
                                {
                                    "szoba_id": "261",
                                    "ferohely": "1",
                                    "helyezes": "198"
                                },
                                {
                                    "szoba_id": "262",
                                    "ferohely": "1",
                                    "helyezes": "199"
                                },
                                {
                                    "szoba_id": "200",
                                    "ferohely": "2",
                                    "helyezes": "200"
                                },
                                {
                                    "szoba_id": "206",
                                    "ferohely": "2",
                                    "helyezes": "201"
                                },
                                {
                                    "szoba_id": "207",
                                    "ferohely": "2",
                                    "helyezes": "202"
                                },
                                {
                                    "szoba_id": "208",
                                    "ferohely": "2",
                                    "helyezes": "203"
                                },
                                {
                                    "szoba_id": "210",
                                    "ferohely": "2",
                                    "helyezes": "204"
                                },
                                {
                                    "szoba_id": "211",
                                    "ferohely": "2",
                                    "helyezes": "205"
                                },
                                {
                                    "szoba_id": "215",
                                    "ferohely": "2",
                                    "helyezes": "206"
                                },
                                {
                                    "szoba_id": "217",
                                    "ferohely": "2",
                                    "helyezes": "207"
                                },
                                {
                                    "szoba_id": "219",
                                    "ferohely": "2",
                                    "helyezes": "208"
                                },
                                {
                                    "szoba_id": "222",
                                    "ferohely": "2",
                                    "helyezes": "209"
                                },
                                {
                                    "szoba_id": "223",
                                    "ferohely": "2",
                                    "helyezes": "210"
                                },
                                {
                                    "szoba_id": "224",
                                    "ferohely": "2",
                                    "helyezes": "211"
                                },
                                {
                                    "szoba_id": "225",
                                    "ferohely": "2",
                                    "helyezes": "212"
                                },
                                {
                                    "szoba_id": "227",
                                    "ferohely": "2",
                                    "helyezes": "213"
                                },
                                {
                                    "szoba_id": "229",
                                    "ferohely": "2",
                                    "helyezes": "214"
                                },
                                {
                                    "szoba_id": "231",
                                    "ferohely": "2",
                                    "helyezes": "215"
                                },
                                {
                                    "szoba_id": "232",
                                    "ferohely": "2",
                                    "helyezes": "216"
                                },
                                {
                                    "szoba_id": "237",
                                    "ferohely": "2",
                                    "helyezes": "217"
                                },
                                {
                                    "szoba_id": "239",
                                    "ferohely": "2",
                                    "helyezes": "218"
                                },
                                {
                                    "szoba_id": "241",
                                    "ferohely": "2",
                                    "helyezes": "219"
                                },
                                {
                                    "szoba_id": "242",
                                    "ferohely": "2",
                                    "helyezes": "220"
                                },
                                {
                                    "szoba_id": "243",
                                    "ferohely": "2",
                                    "helyezes": "221"
                                },
                                {
                                    "szoba_id": "244",
                                    "ferohely": "2",
                                    "helyezes": "222"
                                },
                                {
                                    "szoba_id": "245",
                                    "ferohely": "2",
                                    "helyezes": "223"
                                },
                                {
                                    "szoba_id": "246",
                                    "ferohely": "2",
                                    "helyezes": "224"
                                },
                                {
                                    "szoba_id": "247",
                                    "ferohely": "2",
                                    "helyezes": "225"
                                },
                                {
                                    "szoba_id": "248",
                                    "ferohely": "2",
                                    "helyezes": "226"
                                },
                                {
                                    "szoba_id": "249",
                                    "ferohely": "2",
                                    "helyezes": "227"
                                },
                                {
                                    "szoba_id": "253",
                                    "ferohely": "2",
                                    "helyezes": "228"
                                },
                                {
                                    "szoba_id": "254",
                                    "ferohely": "2",
                                    "helyezes": "229"
                                },
                                {
                                    "szoba_id": "257",
                                    "ferohely": "2",
                                    "helyezes": "230"
                                },
                                {
                                    "szoba_id": "258",
                                    "ferohely": "2",
                                    "helyezes": "231"
                                },
                                {
                                    "szoba_id": "259",
                                    "ferohely": "2",
                                    "helyezes": "232"
                                },
                                {
                                    "szoba_id": "260",
                                    "ferohely": "2",
                                    "helyezes": "233"
                                },
                                {
                                    "szoba_id": "263",
                                    "ferohely": "2",
                                    "helyezes": "234"
                                },
                                {
                                    "szoba_id": "266",
                                    "ferohely": "2",
                                    "helyezes": "235"
                                },
                                {
                                    "szoba_id": "267",
                                    "ferohely": "2",
                                    "helyezes": "236"
                                },
                                {
                                    "szoba_id": "268",
                                    "ferohely": "2",
                                    "helyezes": "237"
                                },
                                {
                                    "szoba_id": "269",
                                    "ferohely": "2",
                                    "helyezes": "238"
                                },
                                {
                                    "szoba_id": "273",
                                    "ferohely": "2",
                                    "helyezes": "239"
                                },
                                {
                                    "szoba_id": "275",
                                    "ferohely": "2",
                                    "helyezes": "240"
                                },
                                {
                                    "szoba_id": "276",
                                    "ferohely": "2",
                                    "helyezes": "241"
                                },
                                {
                                    "szoba_id": "277",
                                    "ferohely": "2",
                                    "helyezes": "242"
                                },
                                {
                                    "szoba_id": "279",
                                    "ferohely": "2",
                                    "helyezes": "243"
                                },
                                {
                                    "szoba_id": "281",
                                    "ferohely": "2",
                                    "helyezes": "244"
                                },
                                {
                                    "szoba_id": "282",
                                    "ferohely": "2",
                                    "helyezes": "245"
                                },
                                {
                                    "szoba_id": "283",
                                    "ferohely": "2",
                                    "helyezes": "246"
                                },
                                {
                                    "szoba_id": "284",
                                    "ferohely": "2",
                                    "helyezes": "247"
                                },
                                {
                                    "szoba_id": "285",
                                    "ferohely": "2",
                                    "helyezes": "248"
                                },
                                {
                                    "szoba_id": "288",
                                    "ferohely": "2",
                                    "helyezes": "249"
                                },
                                {
                                    "szoba_id": "290",
                                    "ferohely": "2",
                                    "helyezes": "250"
                                },
                                {
                                    "szoba_id": "291",
                                    "ferohely": "2",
                                    "helyezes": "251"
                                },
                                {
                                    "szoba_id": "292",
                                    "ferohely": "2",
                                    "helyezes": "252"
                                },
                                {
                                    "szoba_id": "293",
                                    "ferohely": "2",
                                    "helyezes": "253"
                                },
                                {
                                    "szoba_id": "159",
                                    "ferohely": "3",
                                    "helyezes": "254"
                                },
                                {
                                    "szoba_id": "199",
                                    "ferohely": "3",
                                    "helyezes": "255"
                                },
                                {
                                    "szoba_id": "201",
                                    "ferohely": "3",
                                    "helyezes": "256"
                                },
                                {
                                    "szoba_id": "202",
                                    "ferohely": "3",
                                    "helyezes": "257"
                                },
                                {
                                    "szoba_id": "203",
                                    "ferohely": "3",
                                    "helyezes": "258"
                                },
                                {
                                    "szoba_id": "204",
                                    "ferohely": "3",
                                    "helyezes": "259"
                                },
                                {
                                    "szoba_id": "205",
                                    "ferohely": "3",
                                    "helyezes": "260"
                                },
                                {
                                    "szoba_id": "209",
                                    "ferohely": "3",
                                    "helyezes": "261"
                                },
                                {
                                    "szoba_id": "212",
                                    "ferohely": "3",
                                    "helyezes": "262"
                                },
                                {
                                    "szoba_id": "213",
                                    "ferohely": "3",
                                    "helyezes": "263"
                                },
                                {
                                    "szoba_id": "214",
                                    "ferohely": "3",
                                    "helyezes": "264"
                                },
                                {
                                    "szoba_id": "216",
                                    "ferohely": "3",
                                    "helyezes": "265"
                                },
                                {
                                    "szoba_id": "218",
                                    "ferohely": "3",
                                    "helyezes": "266"
                                },
                                {
                                    "szoba_id": "220",
                                    "ferohely": "3",
                                    "helyezes": "267"
                                },
                                {
                                    "szoba_id": "221",
                                    "ferohely": "3",
                                    "helyezes": "268"
                                },
                                {
                                    "szoba_id": "226",
                                    "ferohely": "3",
                                    "helyezes": "269"
                                },
                                {
                                    "szoba_id": "228",
                                    "ferohely": "3",
                                    "helyezes": "270"
                                },
                                {
                                    "szoba_id": "230",
                                    "ferohely": "3",
                                    "helyezes": "271"
                                },
                                {
                                    "szoba_id": "233",
                                    "ferohely": "3",
                                    "helyezes": "272"
                                },
                                {
                                    "szoba_id": "234",
                                    "ferohely": "3",
                                    "helyezes": "273"
                                },
                                {
                                    "szoba_id": "235",
                                    "ferohely": "3",
                                    "helyezes": "274"
                                },
                                {
                                    "szoba_id": "236",
                                    "ferohely": "3",
                                    "helyezes": "275"
                                },
                                {
                                    "szoba_id": "238",
                                    "ferohely": "3",
                                    "helyezes": "276"
                                },
                                {
                                    "szoba_id": "240",
                                    "ferohely": "3",
                                    "helyezes": "277"
                                },
                                {
                                    "szoba_id": "250",
                                    "ferohely": "3",
                                    "helyezes": "278"
                                },
                                {
                                    "szoba_id": "251",
                                    "ferohely": "3",
                                    "helyezes": "279"
                                },
                                {
                                    "szoba_id": "252",
                                    "ferohely": "3",
                                    "helyezes": "280"
                                },
                                {
                                    "szoba_id": "255",
                                    "ferohely": "3",
                                    "helyezes": "281"
                                },
                                {
                                    "szoba_id": "256",
                                    "ferohely": "3",
                                    "helyezes": "282"
                                },
                                {
                                    "szoba_id": "264",
                                    "ferohely": "3",
                                    "helyezes": "283"
                                },
                                {
                                    "szoba_id": "265",
                                    "ferohely": "3",
                                    "helyezes": "284"
                                },
                                {
                                    "szoba_id": "270",
                                    "ferohely": "3",
                                    "helyezes": "285"
                                },
                                {
                                    "szoba_id": "271",
                                    "ferohely": "3",
                                    "helyezes": "286"
                                },
                                {
                                    "szoba_id": "272",
                                    "ferohely": "3",
                                    "helyezes": "287"
                                },
                                {
                                    "szoba_id": "274",
                                    "ferohely": "3",
                                    "helyezes": "288"
                                },
                                {
                                    "szoba_id": "278",
                                    "ferohely": "3",
                                    "helyezes": "289"
                                },
                                {
                                    "szoba_id": "280",
                                    "ferohely": "3",
                                    "helyezes": "290"
                                },
                                {
                                    "szoba_id": "286",
                                    "ferohely": "3",
                                    "helyezes": "291"
                                },
                                {
                                    "szoba_id": "287",
                                    "ferohely": "3",
                                    "helyezes": "292"
                                },
                                {
                                    "szoba_id": "289",
                                    "ferohely": "3",
                                    "helyezes": "293"
                                },
                                {
                                    "szoba_id": "294",
                                    "ferohely": "3",
                                    "helyezes": "294"
                                }
                            ]
                        },
                        "text/html": [
                            "<table>",
                            "<tr><th>szoba_id</th><th>ferohely</th><th>helyezes</th></tr>",
                            "<tr><td>58</td><td>2</td><td>1</td></tr>",
                            "<tr><td>182</td><td>2</td><td>2</td></tr>",
                            "<tr><td>185</td><td>3</td><td>3</td></tr>",
                            "<tr><td>70</td><td>2</td><td>4</td></tr>",
                            "<tr><td>94</td><td>2</td><td>5</td></tr>",
                            "<tr><td>12</td><td>2</td><td>6</td></tr>",
                            "<tr><td>172</td><td>2</td><td>7</td></tr>",
                            "<tr><td>35</td><td>3</td><td>8</td></tr>",
                            "<tr><td>48</td><td>3</td><td>9</td></tr>",
                            "<tr><td>74</td><td>3</td><td>10</td></tr>",
                            "<tr><td>122</td><td>3</td><td>11</td></tr>",
                            "<tr><td>38</td><td>2</td><td>12</td></tr>",
                            "<tr><td>55</td><td>2</td><td>13</td></tr>",
                            "<tr><td>110</td><td>2</td><td>14</td></tr>",
                            "<tr><td>121</td><td>2</td><td>15</td></tr>",
                            "<tr><td>140</td><td>2</td><td>16</td></tr>",
                            "<tr><td>1</td><td>3</td><td>17</td></tr>",
                            "<tr><td>3</td><td>3</td><td>18</td></tr>",
                            "<tr><td>43</td><td>3</td><td>19</td></tr>",
                            "<tr><td>83</td><td>3</td><td>20</td></tr>",
                            "<tr><td>88</td><td>3</td><td>21</td></tr>",
                            "<tr><td>89</td><td>3</td><td>22</td></tr>",
                            "<tr><td>117</td><td>3</td><td>23</td></tr>",
                            "<tr><td>198</td><td>3</td><td>24</td></tr>",
                            "<tr><td>39</td><td>2</td><td>25</td></tr>",
                            "<tr><td>59</td><td>2</td><td>26</td></tr>",
                            "<tr><td>80</td><td>2</td><td>27</td></tr>",
                            "<tr><td>109</td><td>2</td><td>28</td></tr>",
                            "<tr><td>118</td><td>2</td><td>29</td></tr>",
                            "<tr><td>127</td><td>2</td><td>30</td></tr>",
                            "<tr><td>139</td><td>2</td><td>31</td></tr>",
                            "<tr><td>149</td><td>2</td><td>32</td></tr>",
                            "<tr><td>156</td><td>2</td><td>33</td></tr>",
                            "<tr><td>163</td><td>2</td><td>34</td></tr>",
                            "<tr><td>165</td><td>2</td><td>35</td></tr>",
                            "<tr><td>27</td><td>3</td><td>36</td></tr>",
                            "<tr><td>49</td><td>3</td><td>37</td></tr>",
                            "<tr><td>96</td><td>3</td><td>38</td></tr>",
                            "<tr><td>97</td><td>3</td><td>39</td></tr>",
                            "<tr><td>115</td><td>3</td><td>40</td></tr>",
                            "<tr><td>138</td><td>3</td><td>41</td></tr>",
                            "<tr><td>143</td><td>3</td><td>42</td></tr>",
                            "<tr><td>187</td><td>3</td><td>43</td></tr>",
                            "<tr><td>193</td><td>3</td><td>44</td></tr>",
                            "<tr><td>4</td><td>2</td><td>45</td></tr>",
                            "<tr><td>7</td><td>2</td><td>46</td></tr>",
                            "<tr><td>15</td><td>2</td><td>47</td></tr>",
                            "<tr><td>19</td><td>2</td><td>48</td></tr>",
                            "<tr><td>28</td><td>2</td><td>49</td></tr>",
                            "<tr><td>29</td><td>2</td><td>50</td></tr>",
                            "<tr><td>33</td><td>2</td><td>51</td></tr>",
                            "<tr><td>42</td><td>2</td><td>52</td></tr>",
                            "<tr><td>64</td><td>2</td><td>53</td></tr>",
                            "<tr><td>67</td><td>2</td><td>54</td></tr>",
                            "<tr><td>78</td><td>2</td><td>55</td></tr>",
                            "<tr><td>106</td><td>2</td><td>56</td></tr>",
                            "<tr><td>126</td><td>2</td><td>57</td></tr>",
                            "<tr><td>130</td><td>2</td><td>58</td></tr>",
                            "<tr><td>137</td><td>2</td><td>59</td></tr>",
                            "<tr><td>141</td><td>2</td><td>60</td></tr>",
                            "<tr><td>145</td><td>2</td><td>61</td></tr>",
                            "<tr><td>148</td><td>2</td><td>62</td></tr>",
                            "<tr><td>150</td><td>2</td><td>63</td></tr>",
                            "<tr><td>161</td><td>2</td><td>64</td></tr>",
                            "<tr><td>169</td><td>2</td><td>65</td></tr>",
                            "<tr><td>195</td><td>2</td><td>66</td></tr>",
                            "<tr><td>6</td><td>3</td><td>67</td></tr>",
                            "<tr><td>9</td><td>3</td><td>68</td></tr>",
                            "<tr><td>17</td><td>3</td><td>69</td></tr>",
                            "<tr><td>18</td><td>3</td><td>70</td></tr>",
                            "<tr><td>22</td><td>3</td><td>71</td></tr>",
                            "<tr><td>36</td><td>3</td><td>72</td></tr>",
                            "<tr><td>44</td><td>3</td><td>73</td></tr>",
                            "<tr><td>54</td><td>3</td><td>74</td></tr>",
                            "<tr><td>77</td><td>3</td><td>75</td></tr>",
                            "<tr><td>82</td><td>3</td><td>76</td></tr>",
                            "<tr><td>92</td><td>3</td><td>77</td></tr>",
                            "<tr><td>120</td><td>3</td><td>78</td></tr>",
                            "<tr><td>124</td><td>3</td><td>79</td></tr>",
                            "<tr><td>132</td><td>3</td><td>80</td></tr>",
                            "<tr><td>133</td><td>3</td><td>81</td></tr>",
                            "<tr><td>134</td><td>3</td><td>82</td></tr>",
                            "<tr><td>146</td><td>3</td><td>83</td></tr>",
                            "<tr><td>176</td><td>3</td><td>84</td></tr>",
                            "<tr><td>181</td><td>3</td><td>85</td></tr>",
                            "<tr><td>188</td><td>3</td><td>86</td></tr>",
                            "<tr><td>197</td><td>3</td><td>87</td></tr>",
                            "<tr><td>45</td><td>2</td><td>88</td></tr>",
                            "<tr><td>52</td><td>2</td><td>89</td></tr>",
                            "<tr><td>62</td><td>2</td><td>90</td></tr>",
                            "<tr><td>81</td><td>2</td><td>91</td></tr>",
                            "<tr><td>86</td><td>2</td><td>92</td></tr>",
                            "<tr><td>99</td><td>2</td><td>93</td></tr>",
                            "<tr><td>107</td><td>2</td><td>94</td></tr>",
                            "<tr><td>111</td><td>2</td><td>95</td></tr>",
                            "<tr><td>119</td><td>2</td><td>96</td></tr>",
                            "<tr><td>128</td><td>2</td><td>97</td></tr>",
                            "<tr><td>131</td><td>2</td><td>98</td></tr>",
                            "<tr><td>154</td><td>2</td><td>99</td></tr>",
                            "<tr><td>157</td><td>2</td><td>100</td></tr>",
                            "<tr><td>164</td><td>2</td><td>101</td></tr>",
                            "<tr><td>168</td><td>2</td><td>102</td></tr>",
                            "<tr><td>170</td><td>2</td><td>103</td></tr>",
                            "<tr><td>171</td><td>2</td><td>104</td></tr>",
                            "<tr><td>175</td><td>2</td><td>105</td></tr>",
                            "<tr><td>189</td><td>2</td><td>106</td></tr>",
                            "<tr><td>190</td><td>2</td><td>107</td></tr>",
                            "<tr><td>191</td><td>2</td><td>108</td></tr>",
                            "<tr><td>8</td><td>3</td><td>109</td></tr>",
                            "<tr><td>16</td><td>3</td><td>110</td></tr>",
                            "<tr><td>20</td><td>3</td><td>111</td></tr>",
                            "<tr><td>51</td><td>3</td><td>112</td></tr>",
                            "<tr><td>61</td><td>3</td><td>113</td></tr>",
                            "<tr><td>79</td><td>3</td><td>114</td></tr>",
                            "<tr><td>87</td><td>3</td><td>115</td></tr>",
                            "<tr><td>93</td><td>3</td><td>116</td></tr>",
                            "<tr><td>112</td><td>3</td><td>117</td></tr>",
                            "<tr><td>113</td><td>3</td><td>118</td></tr>",
                            "<tr><td>123</td><td>3</td><td>119</td></tr>",
                            "<tr><td>144</td><td>3</td><td>120</td></tr>",
                            "<tr><td>153</td><td>3</td><td>121</td></tr>",
                            "<tr><td>155</td><td>3</td><td>122</td></tr>",
                            "<tr><td>160</td><td>3</td><td>123</td></tr>",
                            "<tr><td>5</td><td>2</td><td>124</td></tr>",
                            "<tr><td>11</td><td>2</td><td>125</td></tr>",
                            "<tr><td>21</td><td>2</td><td>126</td></tr>",
                            "<tr><td>50</td><td>2</td><td>127</td></tr>",
                            "<tr><td>57</td><td>2</td><td>128</td></tr>",
                            "<tr><td>63</td><td>2</td><td>129</td></tr>",
                            "<tr><td>72</td><td>2</td><td>130</td></tr>",
                            "<tr><td>73</td><td>2</td><td>131</td></tr>",
                            "<tr><td>85</td><td>2</td><td>132</td></tr>",
                            "<tr><td>91</td><td>2</td><td>133</td></tr>",
                            "<tr><td>98</td><td>2</td><td>134</td></tr>",
                            "<tr><td>100</td><td>2</td><td>135</td></tr>",
                            "<tr><td>103</td><td>2</td><td>136</td></tr>",
                            "<tr><td>114</td><td>2</td><td>137</td></tr>",
                            "<tr><td>129</td><td>2</td><td>138</td></tr>",
                            "<tr><td>152</td><td>2</td><td>139</td></tr>",
                            "<tr><td>173</td><td>2</td><td>140</td></tr>",
                            "<tr><td>174</td><td>2</td><td>141</td></tr>",
                            "<tr><td>184</td><td>2</td><td>142</td></tr>",
                            "<tr><td>186</td><td>2</td><td>143</td></tr>",
                            "<tr><td>196</td><td>2</td><td>144</td></tr>",
                            "<tr><td>2</td><td>3</td><td>145</td></tr>",
                            "<tr><td>10</td><td>3</td><td>146</td></tr>",
                            "<tr><td>13</td><td>3</td><td>147</td></tr>",
                            "<tr><td>34</td><td>3</td><td>148</td></tr>",
                            "<tr><td>40</td><td>3</td><td>149</td></tr>",
                            "<tr><td>46</td><td>3</td><td>150</td></tr>",
                            "<tr><td>66</td><td>3</td><td>151</td></tr>",
                            "<tr><td>69</td><td>3</td><td>152</td></tr>",
                            "<tr><td>84</td><td>3</td><td>153</td></tr>",
                            "<tr><td>90</td><td>3</td><td>154</td></tr>",
                            "<tr><td>95</td><td>3</td><td>155</td></tr>",
                            "<tr><td>104</td><td>3</td><td>156</td></tr>",
                            "<tr><td>177</td><td>3</td><td>157</td></tr>",
                            "<tr><td>178</td><td>3</td><td>158</td></tr>",
                            "<tr><td>183</td><td>3</td><td>159</td></tr>",
                            "<tr><td>23</td><td>2</td><td>160</td></tr>",
                            "<tr><td>37</td><td>2</td><td>161</td></tr>",
                            "<tr><td>68</td><td>2</td><td>162</td></tr>",
                            "<tr><td>75</td><td>2</td><td>163</td></tr>",
                            "<tr><td>76</td><td>2</td><td>164</td></tr>",
                            "<tr><td>101</td><td>2</td><td>165</td></tr>",
                            "<tr><td>136</td><td>2</td><td>166</td></tr>",
                            "<tr><td>151</td><td>2</td><td>167</td></tr>",
                            "<tr><td>158</td><td>2</td><td>168</td></tr>",
                            "<tr><td>166</td><td>2</td><td>169</td></tr>",
                            "<tr><td>180</td><td>2</td><td>170</td></tr>",
                            "<tr><td>14</td><td>3</td><td>171</td></tr>",
                            "<tr><td>30</td><td>3</td><td>172</td></tr>",
                            "<tr><td>31</td><td>3</td><td>173</td></tr>",
                            "<tr><td>71</td><td>3</td><td>174</td></tr>",
                            "<tr><td>135</td><td>3</td><td>175</td></tr>",
                            "<tr><td>162</td><td>3</td><td>176</td></tr>",
                            "<tr><td>179</td><td>3</td><td>177</td></tr>",
                            "<tr><td>24</td><td>4</td><td>178</td></tr>",
                            "<tr><td>26</td><td>2</td><td>179</td></tr>",
                            "<tr><td>47</td><td>2</td><td>180</td></tr>",
                            "<tr><td>53</td><td>2</td><td>181</td></tr>",
                            "<tr><td>56</td><td>2</td><td>182</td></tr>",
                            "<tr><td>102</td><td>2</td><td>183</td></tr>",
                            "<tr><td>105</td><td>2</td><td>184</td></tr>",
                            "<tr><td>108</td><td>2</td><td>185</td></tr>",
                            "<tr><td>192</td><td>2</td><td>186</td></tr>",
                            "<tr><td>25</td><td>3</td><td>187</td></tr>",
                            "<tr><td>41</td><td>3</td><td>188</td></tr>",
                            "<tr><td>116</td><td>3</td><td>189</td></tr>",
                            "<tr><td>142</td><td>3</td><td>190</td></tr>",
                            "<tr><td>167</td><td>3</td><td>191</td></tr>",
                            "<tr><td>32</td><td>2</td><td>192</td></tr>",
                            "<tr><td>65</td><td>2</td><td>193</td></tr>",
                            "<tr><td>125</td><td>2</td><td>194</td></tr>",
                            "<tr><td>147</td><td>2</td><td>195</td></tr>",
                            "<tr><td>194</td><td>2</td><td>196</td></tr>",
                            "<tr><td>60</td><td>3</td><td>197</td></tr>",
                            "<tr><td>261</td><td>1</td><td>198</td></tr>",
                            "<tr><td>262</td><td>1</td><td>199</td></tr>",
                            "<tr><td>200</td><td>2</td><td>200</td></tr>",
                            "<tr><td>206</td><td>2</td><td>201</td></tr>",
                            "<tr><td>207</td><td>2</td><td>202</td></tr>",
                            "<tr><td>208</td><td>2</td><td>203</td></tr>",
                            "<tr><td>210</td><td>2</td><td>204</td></tr>",
                            "<tr><td>211</td><td>2</td><td>205</td></tr>",
                            "<tr><td>215</td><td>2</td><td>206</td></tr>",
                            "<tr><td>217</td><td>2</td><td>207</td></tr>",
                            "<tr><td>219</td><td>2</td><td>208</td></tr>",
                            "<tr><td>222</td><td>2</td><td>209</td></tr>",
                            "<tr><td>223</td><td>2</td><td>210</td></tr>",
                            "<tr><td>224</td><td>2</td><td>211</td></tr>",
                            "<tr><td>225</td><td>2</td><td>212</td></tr>",
                            "<tr><td>227</td><td>2</td><td>213</td></tr>",
                            "<tr><td>229</td><td>2</td><td>214</td></tr>",
                            "<tr><td>231</td><td>2</td><td>215</td></tr>",
                            "<tr><td>232</td><td>2</td><td>216</td></tr>",
                            "<tr><td>237</td><td>2</td><td>217</td></tr>",
                            "<tr><td>239</td><td>2</td><td>218</td></tr>",
                            "<tr><td>241</td><td>2</td><td>219</td></tr>",
                            "<tr><td>242</td><td>2</td><td>220</td></tr>",
                            "<tr><td>243</td><td>2</td><td>221</td></tr>",
                            "<tr><td>244</td><td>2</td><td>222</td></tr>",
                            "<tr><td>245</td><td>2</td><td>223</td></tr>",
                            "<tr><td>246</td><td>2</td><td>224</td></tr>",
                            "<tr><td>247</td><td>2</td><td>225</td></tr>",
                            "<tr><td>248</td><td>2</td><td>226</td></tr>",
                            "<tr><td>249</td><td>2</td><td>227</td></tr>",
                            "<tr><td>253</td><td>2</td><td>228</td></tr>",
                            "<tr><td>254</td><td>2</td><td>229</td></tr>",
                            "<tr><td>257</td><td>2</td><td>230</td></tr>",
                            "<tr><td>258</td><td>2</td><td>231</td></tr>",
                            "<tr><td>259</td><td>2</td><td>232</td></tr>",
                            "<tr><td>260</td><td>2</td><td>233</td></tr>",
                            "<tr><td>263</td><td>2</td><td>234</td></tr>",
                            "<tr><td>266</td><td>2</td><td>235</td></tr>",
                            "<tr><td>267</td><td>2</td><td>236</td></tr>",
                            "<tr><td>268</td><td>2</td><td>237</td></tr>",
                            "<tr><td>269</td><td>2</td><td>238</td></tr>",
                            "<tr><td>273</td><td>2</td><td>239</td></tr>",
                            "<tr><td>275</td><td>2</td><td>240</td></tr>",
                            "<tr><td>276</td><td>2</td><td>241</td></tr>",
                            "<tr><td>277</td><td>2</td><td>242</td></tr>",
                            "<tr><td>279</td><td>2</td><td>243</td></tr>",
                            "<tr><td>281</td><td>2</td><td>244</td></tr>",
                            "<tr><td>282</td><td>2</td><td>245</td></tr>",
                            "<tr><td>283</td><td>2</td><td>246</td></tr>",
                            "<tr><td>284</td><td>2</td><td>247</td></tr>",
                            "<tr><td>285</td><td>2</td><td>248</td></tr>",
                            "<tr><td>288</td><td>2</td><td>249</td></tr>",
                            "<tr><td>290</td><td>2</td><td>250</td></tr>",
                            "<tr><td>291</td><td>2</td><td>251</td></tr>",
                            "<tr><td>292</td><td>2</td><td>252</td></tr>",
                            "<tr><td>293</td><td>2</td><td>253</td></tr>",
                            "<tr><td>159</td><td>3</td><td>254</td></tr>",
                            "<tr><td>199</td><td>3</td><td>255</td></tr>",
                            "<tr><td>201</td><td>3</td><td>256</td></tr>",
                            "<tr><td>202</td><td>3</td><td>257</td></tr>",
                            "<tr><td>203</td><td>3</td><td>258</td></tr>",
                            "<tr><td>204</td><td>3</td><td>259</td></tr>",
                            "<tr><td>205</td><td>3</td><td>260</td></tr>",
                            "<tr><td>209</td><td>3</td><td>261</td></tr>",
                            "<tr><td>212</td><td>3</td><td>262</td></tr>",
                            "<tr><td>213</td><td>3</td><td>263</td></tr>",
                            "<tr><td>214</td><td>3</td><td>264</td></tr>",
                            "<tr><td>216</td><td>3</td><td>265</td></tr>",
                            "<tr><td>218</td><td>3</td><td>266</td></tr>",
                            "<tr><td>220</td><td>3</td><td>267</td></tr>",
                            "<tr><td>221</td><td>3</td><td>268</td></tr>",
                            "<tr><td>226</td><td>3</td><td>269</td></tr>",
                            "<tr><td>228</td><td>3</td><td>270</td></tr>",
                            "<tr><td>230</td><td>3</td><td>271</td></tr>",
                            "<tr><td>233</td><td>3</td><td>272</td></tr>",
                            "<tr><td>234</td><td>3</td><td>273</td></tr>",
                            "<tr><td>235</td><td>3</td><td>274</td></tr>",
                            "<tr><td>236</td><td>3</td><td>275</td></tr>",
                            "<tr><td>238</td><td>3</td><td>276</td></tr>",
                            "<tr><td>240</td><td>3</td><td>277</td></tr>",
                            "<tr><td>250</td><td>3</td><td>278</td></tr>",
                            "<tr><td>251</td><td>3</td><td>279</td></tr>",
                            "<tr><td>252</td><td>3</td><td>280</td></tr>",
                            "<tr><td>255</td><td>3</td><td>281</td></tr>",
                            "<tr><td>256</td><td>3</td><td>282</td></tr>",
                            "<tr><td>264</td><td>3</td><td>283</td></tr>",
                            "<tr><td>265</td><td>3</td><td>284</td></tr>",
                            "<tr><td>270</td><td>3</td><td>285</td></tr>",
                            "<tr><td>271</td><td>3</td><td>286</td></tr>",
                            "<tr><td>272</td><td>3</td><td>287</td></tr>",
                            "<tr><td>274</td><td>3</td><td>288</td></tr>",
                            "<tr><td>278</td><td>3</td><td>289</td></tr>",
                            "<tr><td>280</td><td>3</td><td>290</td></tr>",
                            "<tr><td>286</td><td>3</td><td>291</td></tr>",
                            "<tr><td>287</td><td>3</td><td>292</td></tr>",
                            "<tr><td>289</td><td>3</td><td>293</td></tr>",
                            "<tr><td>294</td><td>3</td><td>294</td></tr>",
                            "</table>"
                        ]
                    }
                }
            ],
            "execution_count": 8
        },
        {
            "cell_type": "markdown",
            "source": [
                "3\\. Feladat"
            ],
            "metadata": {
                "language": "sql",
                "azdata_cell_guid": "ea3d9c80-a5bc-4612-bb1c-48f1bc1889a6"
            },
            "attachments": {}
        },
        {
            "cell_type": "code",
            "source": [
                "WITH FoglalasokSzama AS(\r\n",
                "    SELECT\r\n",
                "            sz.szallas_id,\r\n",
                "            SUM(f.FELNOTT_SZAM + f.GYERMEK_SZAM) as osszes_foglalas\r\n",
                "\r\n",
                "    FROM szallashely sz\r\n",
                "\r\n",
                "    JOIN szoba s ON sz.SZALLAS_ID = s.SZALLAS_FK\r\n",
                "    JOIN foglalas f ON s.szoba_id = f.szoba_fk\r\n",
                "\r\n",
                "    GROUP BY sz.SZALLAS_ID\r\n",
                ")\r\n",
                "SELECT TOP 1 WITH TIES\r\n",
                "    sz.szallas_nev,\r\n",
                "    fs.osszes_foglalas\r\n",
                "\r\n",
                "FROM szallashely sz\r\n",
                "\r\n",
                "JOIN FoglalasokSzama fs ON sz.SZALLAS_ID = fs.SZALLAS_ID\r\n",
                "\r\n",
                "ORDER BY fs.osszes_foglalas"
            ],
            "metadata": {
                "azdata_cell_guid": "2b454ac2-67c4-457a-a8e4-8d38f6928dd0",
                "language": "sql"
            },
            "outputs": [
{
    "output_type": "display_data",
    "data": {
        "text/html": "(1 row affected)"
    },
    "metadata": {}
}, {
    "output_type": "display_data",
    "data": {
        "text/html": "Total execution time: 00:00:00.007"
    },
    "metadata": {}
}, {
    "output_type": "execute_result",
    "metadata": {},
    "execution_count": 11,
    "data": {
        "application/vnd.dataresource+json": {
            "schema": {
                "fields": [
                    {
                        "name": "szallas_nev"
                    },
                    {
                        "name": "osszes_foglalas"
                    }
                ]
            },
            "data": [
                {
                    "szallas_nev": "Családi Ház",
                    "osszes_foglalas": "52"
                }
            ]
        },
        "text/html": [
            "<table>",
            "<tr><th>szallas_nev</th><th>osszes_foglalas</th></tr>",
            "<tr><td>Családi Ház</td><td>52</td></tr>",
            "</table>"
        ]
    }
}
],
            "execution_count": 11
        }
    ]
}