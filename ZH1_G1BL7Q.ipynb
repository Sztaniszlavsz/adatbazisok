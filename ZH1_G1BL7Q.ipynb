{
    "metadata": {
        "kernelspec": {
            "name": "SQL",
            "display_name": "SQL",
            "language": "sql"
        },
        "language_info": {
            "name": "sql",
            "version": ""
        }
    },
    "nbformat_minor": 2,
    "nbformat": 4,
    "cells": [
        {
            "cell_type": "markdown",
            "source": [
                "1\\. Feladat"
            ],
            "metadata": {
                "azdata_cell_guid": "93a13f9f-c50d-4c9a-b850-ce04f84363e0"
            },
            "attachments": {}
        },
        {
            "cell_type": "code",
            "source": [
                "SELECT  Rogzitette,\r\n",
                "        szallas_nev,\r\n",
                "        cim\r\n",
                "FROM Szallashely\r\n",
                "WHERE   Right(left(ROGZ_IDO,7),1) = 3 AND\r\n",
                "        left(cim,1) = 8\r\n",
                "ORDER BY CSILLAGOK_SZAMA DESC"
            ],
            "metadata": {
                "azdata_cell_guid": "63d9f665-69b8-4da6-8d92-842a22e64752",
                "language": "sql"
            },
            "outputs": [
                {
                    "output_type": "display_data",
                    "data": {
                        "text/html": "(7 rows affected)"
                    },
                    "metadata": {}
                },
                {
                    "output_type": "display_data",
                    "data": {
                        "text/html": "Total execution time: 00:00:00.005"
                    },
                    "metadata": {}
                },
                {
                    "output_type": "execute_result",
                    "metadata": {},
                    "execution_count": 1,
                    "data": {
                        "application/vnd.dataresource+json": {
                            "schema": {
                                "fields": [
                                    {
                                        "name": "Rogzitette"
                                    },
                                    {
                                        "name": "szallas_nev"
                                    },
                                    {
                                        "name": "cim"
                                    }
                                ]
                            },
                            "data": [
                                {
                                    "Rogzitette": "Béla",
                                    "szallas_nev": "Hotel Három Hattyú",
                                    "cim": "8623 Balatonföldvár, Rákóczi Ferenc út 45."
                                },
                                {
                                    "Rogzitette": "Mari",
                                    "szallas_nev": "Jáde panzió",
                                    "cim": "8624 Balatonföldvár, Kiss u.2."
                                },
                                {
                                    "Rogzitette": "Béla",
                                    "szallas_nev": "Kentaur Hotel",
                                    "cim": "8600 Siófok (Széplak), Akácfa utca 1"
                                },
                                {
                                    "Rogzitette": "Béla",
                                    "szallas_nev": "Tímárház Panzió",
                                    "cim": "8600 Siófok, Virág utca 1"
                                },
                                {
                                    "Rogzitette": "Béla",
                                    "szallas_nev": "Családi Ház",
                                    "cim": "8630 Balatonboglár, József Attila utca 25"
                                },
                                {
                                    "Rogzitette": "Mari",
                                    "szallas_nev": "Szieszta Apartmanház",
                                    "cim": "8630 Balatonboglár, Dózsa György utca 108"
                                },
                                {
                                    "Rogzitette": "Béla",
                                    "szallas_nev": "Partiszél Vendégház",
                                    "cim": "8220 Balatonalmádi Neptun u. 23."
                                }
                            ]
                        },
                        "text/html": [
                            "<table>",
                            "<tr><th>Rogzitette</th><th>szallas_nev</th><th>cim</th></tr>",
                            "<tr><td>Béla</td><td>Hotel Három Hattyú</td><td>8623 Balatonföldvár, Rákóczi Ferenc út 45.</td></tr>",
                            "<tr><td>Mari</td><td>Jáde panzió</td><td>8624 Balatonföldvár, Kiss u.2.</td></tr>",
                            "<tr><td>Béla</td><td>Kentaur Hotel</td><td>8600 Siófok (Széplak), Akácfa utca 1</td></tr>",
                            "<tr><td>Béla</td><td>Tímárház Panzió</td><td>8600 Siófok, Virág utca 1</td></tr>",
                            "<tr><td>Béla</td><td>Családi Ház</td><td>8630 Balatonboglár, József Attila utca 25</td></tr>",
                            "<tr><td>Mari</td><td>Szieszta Apartmanház</td><td>8630 Balatonboglár, Dózsa György utca 108</td></tr>",
                            "<tr><td>Béla</td><td>Partiszél Vendégház</td><td>8220 Balatonalmádi Neptun u. 23.</td></tr>",
                            "</table>"
                        ]
                    }
                }
            ],
            "execution_count": 1
        },
        {
            "cell_type": "markdown",
            "source": [
                "2\\. Feladat"
            ],
            "metadata": {
                "azdata_cell_guid": "9d91079b-df8a-45c1-9f78-b7c265bded41"
            },
            "attachments": {}
        },
        {
            "cell_type": "code",
            "source": [
                "SELECT  szh.SZALLAS_ID,\r\n",
                "        szh.SZALLAS_NEV,\r\n",
                "        count(sz.KLIMAS)\r\n",
                "FROM Szallashely szh JOIN Szoba sz ON szh.SZALLAS_ID = sz.SZALLAS_FK\r\n",
                "WHERE sz.KLIMAS = 'i'\r\n",
                "GROUP BY szh.SZALLAS_ID ,szh.szallas_nev\r\n",
                ""
            ],
            "metadata": {
                "azdata_cell_guid": "cd0d041b-a06f-4e07-a087-d514c54a653b",
                "language": "sql"
            },
            "outputs": [
                {
                    "output_type": "display_data",
                    "data": {
                        "text/html": "(20 rows affected)"
                    },
                    "metadata": {}
                },
                {
                    "output_type": "display_data",
                    "data": {
                        "text/html": "Total execution time: 00:00:00.014"
                    },
                    "metadata": {}
                },
                {
                    "output_type": "execute_result",
                    "metadata": {},
                    "execution_count": 22,
                    "data": {
                        "application/vnd.dataresource+json": {
                            "schema": {
                                "fields": [
                                    {
                                        "name": "SZALLAS_ID"
                                    },
                                    {
                                        "name": "SZALLAS_NEV"
                                    },
                                    {
                                        "name": "(No column name)"
                                    }
                                ]
                            },
                            "data": [
                                {
                                    "SZALLAS_ID": "1",
                                    "SZALLAS_NEV": "Sába-Ház",
                                    "(No column name)": "10"
                                },
                                {
                                    "SZALLAS_ID": "2",
                                    "SZALLAS_NEV": "Családi Ház",
                                    "(No column name)": "4"
                                },
                                {
                                    "SZALLAS_ID": "3",
                                    "SZALLAS_NEV": "Fortuna Apartman",
                                    "(No column name)": "5"
                                },
                                {
                                    "SZALLAS_ID": "4",
                                    "SZALLAS_NEV": "Fortuna panzió",
                                    "(No column name)": "12"
                                },
                                {
                                    "SZALLAS_ID": "5",
                                    "SZALLAS_NEV": "Fortuna Panzió",
                                    "(No column name)": "8"
                                },
                                {
                                    "SZALLAS_ID": "6",
                                    "SZALLAS_NEV": "Kentaur Hotel",
                                    "(No column name)": "22"
                                },
                                {
                                    "SZALLAS_ID": "7",
                                    "SZALLAS_NEV": "Szieszta Apartmanház",
                                    "(No column name)": "4"
                                },
                                {
                                    "SZALLAS_ID": "8",
                                    "SZALLAS_NEV": "Hotel Három Hattyú",
                                    "(No column name)": "28"
                                },
                                {
                                    "SZALLAS_ID": "9",
                                    "SZALLAS_NEV": "Jáde panzió",
                                    "(No column name)": "2"
                                },
                                {
                                    "SZALLAS_ID": "10",
                                    "SZALLAS_NEV": "Lagúna Hotel",
                                    "(No column name)": "15"
                                },
                                {
                                    "SZALLAS_ID": "11",
                                    "SZALLAS_NEV": "Partiszél Vendégház",
                                    "(No column name)": "4"
                                },
                                {
                                    "SZALLAS_ID": "12",
                                    "SZALLAS_NEV": "Gold Hotel",
                                    "(No column name)": "42"
                                },
                                {
                                    "SZALLAS_ID": "13",
                                    "SZALLAS_NEV": "Riviéra Panzió",
                                    "(No column name)": "8"
                                },
                                {
                                    "SZALLAS_ID": "14",
                                    "SZALLAS_NEV": "Nyárfás Vendégház",
                                    "(No column name)": "4"
                                },
                                {
                                    "SZALLAS_ID": "15",
                                    "SZALLAS_NEV": "Tímárház Panzió",
                                    "(No column name)": "9"
                                },
                                {
                                    "SZALLAS_ID": "16",
                                    "SZALLAS_NEV": "Bagoly Hotel",
                                    "(No column name)": "14"
                                },
                                {
                                    "SZALLAS_ID": "17",
                                    "SZALLAS_NEV": "Szarvas Hotel",
                                    "(No column name)": "11"
                                },
                                {
                                    "SZALLAS_ID": "18",
                                    "SZALLAS_NEV": "Fortuna Apartman",
                                    "(No column name)": "2"
                                },
                                {
                                    "SZALLAS_ID": "19",
                                    "SZALLAS_NEV": "Nyárfás Vendégház",
                                    "(No column name)": "2"
                                },
                                {
                                    "SZALLAS_ID": "20",
                                    "SZALLAS_NEV": "Kollégium",
                                    "(No column name)": "9"
                                }
                            ]
                        },
                        "text/html": [
                            "<table>",
                            "<tr><th>SZALLAS_ID</th><th>SZALLAS_NEV</th><th>(No column name)</th></tr>",
                            "<tr><td>1</td><td>Sába-Ház</td><td>10</td></tr>",
                            "<tr><td>2</td><td>Családi Ház</td><td>4</td></tr>",
                            "<tr><td>3</td><td>Fortuna Apartman</td><td>5</td></tr>",
                            "<tr><td>4</td><td>Fortuna panzió</td><td>12</td></tr>",
                            "<tr><td>5</td><td>Fortuna Panzió</td><td>8</td></tr>",
                            "<tr><td>6</td><td>Kentaur Hotel</td><td>22</td></tr>",
                            "<tr><td>7</td><td>Szieszta Apartmanház</td><td>4</td></tr>",
                            "<tr><td>8</td><td>Hotel Három Hattyú</td><td>28</td></tr>",
                            "<tr><td>9</td><td>Jáde panzió</td><td>2</td></tr>",
                            "<tr><td>10</td><td>Lagúna Hotel</td><td>15</td></tr>",
                            "<tr><td>11</td><td>Partiszél Vendégház</td><td>4</td></tr>",
                            "<tr><td>12</td><td>Gold Hotel</td><td>42</td></tr>",
                            "<tr><td>13</td><td>Riviéra Panzió</td><td>8</td></tr>",
                            "<tr><td>14</td><td>Nyárfás Vendégház</td><td>4</td></tr>",
                            "<tr><td>15</td><td>Tímárház Panzió</td><td>9</td></tr>",
                            "<tr><td>16</td><td>Bagoly Hotel</td><td>14</td></tr>",
                            "<tr><td>17</td><td>Szarvas Hotel</td><td>11</td></tr>",
                            "<tr><td>18</td><td>Fortuna Apartman</td><td>2</td></tr>",
                            "<tr><td>19</td><td>Nyárfás Vendégház</td><td>2</td></tr>",
                            "<tr><td>20</td><td>Kollégium</td><td>9</td></tr>",
                            "</table>"
                        ]
                    }
                }
            ],
            "execution_count": 22
        }
    ]
}