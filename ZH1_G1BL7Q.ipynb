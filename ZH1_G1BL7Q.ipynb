{
    "metadata": {
        "kernelspec": {
            "name": "SQL",
            "display_name": "SQL",
            "language": "sql"
        },
        "language_info": {
            "name": "sql",
            "version": ""
        }
    },
    "nbformat_minor": 2,
    "nbformat": 4,
    "cells": [
        {
            "cell_type": "markdown",
            "source": [
                "1\\. Feladat"
            ],
            "metadata": {
                "azdata_cell_guid": "93a13f9f-c50d-4c9a-b850-ce04f84363e0"
            },
            "attachments": {}
        },
        {
            "cell_type": "code",
            "source": [
                "SELECT  Rogzitette,\r\n",
                "        szallas_nev,\r\n",
                "        cim,\r\n",
                "        CSILLAGOK_SZAMA\r\n",
                "FROM Szallashely\r\n",
                "WHERE   Right(left(ROGZ_IDO,7),1) = 3 AND\r\n",
                "        left(cim,1) = 8\r\n",
                "ORDER BY CSILLAGOK_SZAMA DESC"
            ],
            "metadata": {
                "azdata_cell_guid": "63d9f665-69b8-4da6-8d92-842a22e64752",
                "language": "sql"
            },
            "outputs": [
                {
                    "output_type": "display_data",
                    "data": {
                        "text/html": "(7 rows affected)"
                    },
                    "metadata": {}
                },
                {
                    "output_type": "display_data",
                    "data": {
                        "text/html": "Total execution time: 00:00:00.009"
                    },
                    "metadata": {}
                },
                {
                    "output_type": "execute_result",
                    "metadata": {},
                    "execution_count": 9,
                    "data": {
                        "application/vnd.dataresource+json": {
                            "schema": {
                                "fields": [
                                    {
                                        "name": "Rogzitette"
                                    },
                                    {
                                        "name": "szallas_nev"
                                    },
                                    {
                                        "name": "cim"
                                    },
                                    {
                                        "name": "CSILLAGOK_SZAMA"
                                    }
                                ]
                            },
                            "data": [
                                {
                                    "Rogzitette": "Béla",
                                    "szallas_nev": "Hotel Három Hattyú",
                                    "cim": "8623 Balatonföldvár, Rákóczi Ferenc út 45.",
                                    "CSILLAGOK_SZAMA": "4"
                                },
                                {
                                    "Rogzitette": "Mari",
                                    "szallas_nev": "Jáde panzió",
                                    "cim": "8624 Balatonföldvár, Kiss u.2.",
                                    "CSILLAGOK_SZAMA": "3"
                                },
                                {
                                    "Rogzitette": "Béla",
                                    "szallas_nev": "Kentaur Hotel",
                                    "cim": "8600 Siófok (Széplak), Akácfa utca 1",
                                    "CSILLAGOK_SZAMA": "3"
                                },
                                {
                                    "Rogzitette": "Béla",
                                    "szallas_nev": "Tímárház Panzió",
                                    "cim": "8600 Siófok, Virág utca 1",
                                    "CSILLAGOK_SZAMA": "3"
                                },
                                {
                                    "Rogzitette": "Béla",
                                    "szallas_nev": "Családi Ház",
                                    "cim": "8630 Balatonboglár, József Attila utca 25",
                                    "CSILLAGOK_SZAMA": "0"
                                },
                                {
                                    "Rogzitette": "Mari",
                                    "szallas_nev": "Szieszta Apartmanház",
                                    "cim": "8630 Balatonboglár, Dózsa György utca 108",
                                    "CSILLAGOK_SZAMA": "0"
                                },
                                {
                                    "Rogzitette": "Béla",
                                    "szallas_nev": "Partiszél Vendégház",
                                    "cim": "8220 Balatonalmádi Neptun u. 23.",
                                    "CSILLAGOK_SZAMA": "0"
                                }
                            ]
                        },
                        "text/html": [
                            "<table>",
                            "<tr><th>Rogzitette</th><th>szallas_nev</th><th>cim</th><th>CSILLAGOK_SZAMA</th></tr>",
                            "<tr><td>Béla</td><td>Hotel Három Hattyú</td><td>8623 Balatonföldvár, Rákóczi Ferenc út 45.</td><td>4</td></tr>",
                            "<tr><td>Mari</td><td>Jáde panzió</td><td>8624 Balatonföldvár, Kiss u.2.</td><td>3</td></tr>",
                            "<tr><td>Béla</td><td>Kentaur Hotel</td><td>8600 Siófok (Széplak), Akácfa utca 1</td><td>3</td></tr>",
                            "<tr><td>Béla</td><td>Tímárház Panzió</td><td>8600 Siófok, Virág utca 1</td><td>3</td></tr>",
                            "<tr><td>Béla</td><td>Családi Ház</td><td>8630 Balatonboglár, József Attila utca 25</td><td>0</td></tr>",
                            "<tr><td>Mari</td><td>Szieszta Apartmanház</td><td>8630 Balatonboglár, Dózsa György utca 108</td><td>0</td></tr>",
                            "<tr><td>Béla</td><td>Partiszél Vendégház</td><td>8220 Balatonalmádi Neptun u. 23.</td><td>0</td></tr>",
                            "</table>"
                        ]
                    }
                }
            ],
            "execution_count": 9
        }
    ]
}