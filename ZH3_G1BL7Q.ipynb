{
 "cells": [
  {
   "cell_type": "code",
   "execution_count": null,
   "metadata": {},
   "outputs": [],
   "source": [
    "1. Feladat\n",
    "Filter: {\"languages.0\" : \"English\", \"awards.wins\" : 2}\n",
    "Project: { \n",
    "    \"_id\" : 0,\n",
    "\n",
    "    \"title\": 1,\n",
    "\n",
    "    \"writers\": 1,\n",
    "\n",
    "    \"directors\": 1,\n",
    "\n",
    "    \"year\": 1}\n",
    "Sort : {\"year\" : -1 }\n"
   ]
  },
  {
   "cell_type": "code",
   "execution_count": null,
   "metadata": {},
   "outputs": [],
   "source": [
    "2.Feladat\n",
    "use sample_mflix\n",
    "db.users.find(\n",
    "    {   \n",
    "        \"email\": { $regex: /.*\\.com$/ \n",
    "    } },\n",
    "    {   \n",
    "        name: 1, \n",
    "        email: 1, \n",
    "        _id: 0 \n",
    "    })"
   ]
  },
  {
   "cell_type": "code",
   "execution_count": null,
   "metadata": {},
   "outputs": [],
   "source": [
    "3.Feladat\n",
    "db.movies.aggregate([\n",
    "    { \n",
    "        $match: \n",
    "            { \n",
    "                year: \n",
    "                    { \n",
    "                        $gt: 1950 \n",
    "                    } \n",
    "            } \n",
    "    }, \n",
    "    { \n",
    "        $group: \n",
    "            { \n",
    "                _id: \"$rated\", \n",
    "                averageRuntime: \n",
    "                { \n",
    "                    $avg: \"$runtime\" \n",
    "                } \n",
    "            } \n",
    "    }, \n",
    "    { \n",
    "        $project: \n",
    "        { \n",
    "            _id: 0,\n",
    "            rated: \"$_id\",\n",
    "            averageRuntime: 1 \n",
    "        } \n",
    "    }\n",
    "]);"
   ]
  },
  {
   "cell_type": "code",
   "execution_count": null,
   "metadata": {},
   "outputs": [],
   "source": [
    "4.Feladat\n",
    "MATCH (p:Person)-[:ACTED_IN]->(m:Movie)\n",
    "WHERE m.released > 1960\n",
    "RETURN p.name AS `Actor Name`, m.title AS `Movie Title`, m.released AS `Release Year`\n",
    "ORDER BY m.released DESC"
   ]
  },
  {
   "cell_type": "code",
   "execution_count": null,
   "metadata": {},
   "outputs": [],
   "source": [
    "5.Feladat\n",
    "MATCH (p:Person)-[:ACTED_IN]->(m:Movie)\n",
    "WHERE p.born > 1980\n",
    "WITH p, COUNT(m) AS `NumMoviesActedIn`\n",
    "RETURN p.name AS `Actor`, p.born AS `BirthYear`, `NumMoviesActedIn`\n",
    "ORDER BY p.born, `NumMoviesActedIn` DESC"
   ]
  }
 ],
 "metadata": {
  "language_info": {
   "name": "python"
  }
 },
 "nbformat": 4,
 "nbformat_minor": 2
}
