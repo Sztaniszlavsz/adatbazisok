{
    "metadata": {
        "kernelspec": {
            "name": "SQL",
            "display_name": "SQL",
            "language": "sql"
        },
        "language_info": {
            "name": "sql",
            "version": ""
        }
    },
    "nbformat_minor": 2,
    "nbformat": 4,
    "cells": [
        {
            "cell_type": "code",
            "source": [
                "SELECT V.NEV, V.EMAIL, V.USERNEV\r\n",
                "FROM VENDEG V\r\n",
                "JOIN FOGLALAS F ON V.USERNEV = F.UGYFEL_FK\r\n",
                "WHERE MONTH(V.SZUL_DAT) != 5\r\n",
                "GROUP BY V.NEV, V.EMAIL, V.USERNEV\r\n",
                "HAVING COUNT(F.FOGLALAS_PK) > 1;\r\n",
                "\r\n",
                ""
            ],
            "metadata": {
                "azdata_cell_guid": "693beea6-e78d-4a06-b194-55cbaa745851",
                "language": "sql"
            },
            "outputs": [],
            "execution_count": null
        },
        {
            "cell_type": "code",
            "source": [
                "SELECT VENDEG.*, SZOBA.FEROHELY\r\n",
                "FROM VENDEG\r\n",
                "JOIN FOGLALAS ON VENDEG.USERNEV = FOGLALAS.UGYFEL_FK\r\n",
                "JOIN SZOBA ON FOGLALAS.SZOBA_FK = SZOBA.SZALLAS_FK\r\n",
                "WHERE SZOBA.KLIMAS = 'i'\r\n",
                "AND SZOBA.FEROHELY = (\r\n",
                "    SELECT MAX(FEROHELY)\r\n",
                "    FROM SZOBA\r\n",
                "    WHERE KLIMAS = 'i'\r\n",
                ");\r\n",
                "\r\n",
                ""
            ],
            "metadata": {
                "azdata_cell_guid": "b2e139c1-f81f-4faf-9f29-2d892af62bf4",
                "language": "sql"
            },
            "outputs": [],
            "execution_count": null
        },
        {
            "cell_type": "code",
            "source": [
                "WITH FoglalasokSzama AS (\r\n",
                "  SELECT\r\n",
                "    UGYFEL_FK AS VENDEG_ID,\r\n",
                "    COUNT(*) AS FOGLALASOK_SZAMA\r\n",
                "  FROM FOGLALAS\r\n",
                "  GROUP BY UGYFEL_FK\r\n",
                "),\r\n",
                "RangsoroltFoglalasok AS (\r\n",
                "  SELECT\r\n",
                "    VENDEG_ID,\r\n",
                "    FOGLALASOK_SZAMA,\r\n",
                "    RANK() OVER (ORDER BY FOGLALASOK_SZAMA DESC) AS RANGSOR\r\n",
                "  FROM FoglalasokSzama\r\n",
                ")\r\n",
                "SELECT\r\n",
                "  RANGSOR,\r\n",
                "  VENDEG_ID,\r\n",
                "  NEV,\r\n",
                "  FOGLALASOK_SZAMA\r\n",
                "FROM RangsoroltFoglalasok R\r\n",
                "JOIN VENDEG V ON R.VENDEG_ID = V.USERNEV\r\n",
                "ORDER BY RANGSOR;\r\n",
                "\r\n",
                ""
            ],
            "metadata": {
                "azdata_cell_guid": "b2e2be16-ae9b-4e2a-885b-52e586fc5ad6",
                "language": "sql"
            },
            "outputs": [],
            "execution_count": null
        },
        {
            "cell_type": "code",
            "source": [
                "SELECT SZOBA_SZAMA, CONVERT(DATE, METTOL) as DATE, COUNT(*) as RESERVATIONS\r\n",
                "FROM FOGLALAS\r\n",
                "JOIN SZOBA ON FOGLALAS.SZOBA_FK = SZOBA.SZALLAS_FK\r\n",
                "GROUP BY SZOBA_SZAMA, CONVERT(DATE, METTOL)\r\n",
                "HAVING COUNT(*) >= 2\r\n",
                "ORDER BY SZOBA_SZAMA, DATE;\r\n",
                "\r\n",
                ""
            ],
            "metadata": {
                "azdata_cell_guid": "c0921a5f-19fb-49b3-93d9-d83fd5ce6cd3",
                "language": "sql"
            },
            "outputs": [],
            "execution_count": null
        },
        {
            "cell_type": "code",
            "source": [
                "SELECT COUNT(DISTINCT FEROHELY) AS KULONBOZO_ERTEK_SZAMA\r\n",
                "FROM SZOBA;\r\n",
                "\r\n",
                "SELECT MIN(FEROHELY) AS MIN_FEROHELY,\r\n",
                "       MAX(FEROHELY) AS MAX_FEROHELY,\r\n",
                "       AVG(FEROHELY) AS AVG_FEROHELY\r\n",
                "FROM SZOBA;\r\n",
                "\r\n",
                "SELECT\r\n",
                "    (COUNT(CASE WHEN FEROHELY IS NULL THEN 1 END) * 100.0 / COUNT(*)) AS NULL_SZAZALEK,\r\n",
                "    (COUNT(CASE WHEN FEROHELY IS NOT NULL THEN 1 END) * 100.0 / COUNT(*)) AS NOT_NULL_SZAZALEK\r\n",
                "FROM SZOBA;\r\n",
                "\r\n",
                ""
            ],
            "metadata": {
                "azdata_cell_guid": "5d1b1461-024d-4731-ac63-2670efe46673",
                "language": "sql"
            },
            "outputs": [],
            "execution_count": null
        },
        {
            "cell_type": "code",
            "source": [
                "# String kulcs (könyvtár neve)\r\n",
                "\r\n",
                "SET konyvtar_nev \"Városi Könyvtár\"\r\n",
                "\r\n",
                "\r\n",
                "\r\n",
                "# Hash kulcs (könyv adatai)\r\n",
                "\r\n",
                "HSET konyv:1 cim \"Az ajtó\" szerzo \"Szabó Magda\" ev 1987\r\n",
                "\r\n",
                "HSET konyv:2 cim \"A Pál utcai Fiúk\" szerzo \"Molnár Ferenc\" ev 1906\r\n",
                "\r\n",
                "HSET konyv:3 cim \"A kis herceg\" szerzo \"Antoine de Saint-Exupéry\" ev 1943\r\n",
                "\r\n",
                "\r\n",
                "\r\n",
                "# Set kulcs (műfajok)\r\n",
                "\r\n",
                "SADD mufajok fantasy scifi regény\r\n",
                "\r\n",
                "\r\n",
                "\r\n",
                "# List kulcs (kikölcsönzött könyvek)\r\n",
                "\r\n",
                "LPUSH kikolcsonzott_konyvek \"A Gyűrűk Ura\" \"Harry Potter és a bölcsek köve\" \"Az ember, aki csütörtök volt\"\r\n",
                "\r\n",
                "\r\n",
                "\r\n",
                "# Sorted set kulcs (könyvek és kölcsönzések száma)\r\n",
                "\r\n",
                "ZADD konyvek_kolcsonzesek 5 \"A Gyűrűk Ura\" 3 \"Harry Potter és a bölcsek köve\" 2 \"Az ember, aki csütörtök volt\"\r\n",
                "\r\n",
                ""
            ],
            "metadata": {
                "azdata_cell_guid": "90da52d0-b9aa-4fca-a3c9-48bc8d25e72f",
                "language": "sql"
            },
            "outputs": [],
            "execution_count": null
        },
        {
            "cell_type": "code",
            "source": [
                "CREATE TABLE STUDENT (\r\n",
                "\r\n",
                "    ID int PRIMARY KEY,\r\n",
                "\r\n",
                "    Nev text,\r\n",
                "\r\n",
                "    Teljesitett_felevek list<int>,\r\n",
                "\r\n",
                "    Eredmenyek map<int, decimal>,\r\n",
                "\r\n",
                "    Nyelvtudas set<text>\r\n",
                "\r\n",
                ");\r\n",
                "\r\n",
                "\r\n",
                "\r\n",
                "INSERT INTO STUDENT (ID, Nev, Teljesitett_felevek, Eredmenyek, Nyelvtudas)\r\n",
                "\r\n",
                "VALUES (\r\n",
                "\r\n",
                "    1,\r\n",
                "\r\n",
                "    'Sztaniszláv Szabolcs',\r\n",
                "\r\n",
                "    [1, 2, 3],\r\n",
                "\r\n",
                "    {1: 4.50, 2: 4.85, 3: 4.20},\r\n",
                "\r\n",
                "    {'angol', 'német'}\r\n",
                "\r\n",
                ");\r\n",
                "\r\n",
                "\r\n",
                "\r\n",
                "INSERT INTO STUDENT (ID, Nev, Teljesitett_felevek, Eredmenyek, Nyelvtudas)\r\n",
                "\r\n",
                "VALUES (\r\n",
                "\r\n",
                "    2,\r\n",
                "\r\n",
                "    'Kis Pista',\r\n",
                "\r\n",
                "    [1, 2],\r\n",
                "\r\n",
                "    {1: 3.80, 2: 4.00},\r\n",
                "\r\n",
                "    {'angol', 'francia', 'spanyol'}\r\n",
                "\r\n",
                ");\r\n",
                "\r\n",
                ""
            ],
            "metadata": {
                "azdata_cell_guid": "fdb28681-eb7a-4446-a954-db43e5738005",
                "language": "sql"
            },
            "outputs": [],
            "execution_count": null
        },
        {
            "cell_type": "code",
            "source": [
                "MATCH (tom:Person {name: 'Tom Hanks'})-[:ACTED_IN]->(movie)<-[:ACTED_IN]-(coactor:Person)\r\n",
                "WHERE coactor.name <> 'Tom Hanks'\r\n",
                "RETURN DISTINCT coactor.name AS SzereploNeve\r\n",
                "\r\n",
                ""
            ],
            "metadata": {
                "azdata_cell_guid": "9d7090bf-5377-4cc9-a1fd-722e77d06640",
                "language": "sql"
            },
            "outputs": [],
            "execution_count": null
        }
    ]
}